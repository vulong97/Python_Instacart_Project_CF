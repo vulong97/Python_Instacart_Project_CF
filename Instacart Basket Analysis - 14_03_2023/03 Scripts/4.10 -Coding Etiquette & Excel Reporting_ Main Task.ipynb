{
 "cells": [
  {
   "cell_type": "markdown",
   "id": "3ed17bb4",
   "metadata": {},
   "source": [
    "# Task 4.10"
   ]
  },
  {
   "cell_type": "markdown",
   "id": "e0ce63cc",
   "metadata": {},
   "source": [
    "## Table of Content\n",
    "\n",
    "##### 1 Importing Libraries and Datasets\n",
    "##### 2 Consider any security implications that might exist for this new data\n",
    "##### 3.1 Create a regional segmentation of the data\n",
    "##### 3.2 Determining differences in spending habits between the different U.S. regions\n",
    "##### 4 Create an exclusion flag for low-activity customers (customers with less than 5 orders) and exclude them from the data\n",
    "##### 5 Create a profiling variable based on age, income, certain goods in the “department_id” column, and number of dependants\n",
    "##### 5.1 Profiling based on age\n",
    "##### 5.2 Profiling based on income\n",
    "##### 5.3 Profiling based on number of dependents nad family status\n",
    "##### 5.4 Profiling based on department\n",
    "##### 5.5 Creating other profiles based on combination of factors\n",
    "##### 6 Create an appropriate visualization to show the distribution of profiles\n",
    "##### 7 Aggregate the max, mean, and min variables on a customer-profile level for usage frequency and expenditure\n",
    "##### 8 Compare your customer profiles with regions and departments\n",
    "##### 9 Visualizations to answer the questions in the project brief\n",
    "##### 10 Exporting the dataframes and vizualisations"
   ]
  },
  {
   "cell_type": "markdown",
   "id": "1e789025",
   "metadata": {},
   "source": [
    "## 1 Importing Libraries and Datasets"
   ]
  },
  {
   "cell_type": "code",
   "execution_count": 1,
   "id": "7f834966",
   "metadata": {},
   "outputs": [],
   "source": [
    "#Importing Libraries\n",
    "import pandas as pd\n",
    "import numpy as np\n",
    "import os\n",
    "import matplotlib.pyplot as plt\n",
    "import seaborn as sns\n",
    "import scipy"
   ]
  },
  {
   "cell_type": "code",
   "execution_count": 2,
   "id": "8ce468cd",
   "metadata": {},
   "outputs": [],
   "source": [
    "#Creating 'path' shortcut\n",
    "path = r'C:\\Users\\Longus\\Documents\\26-02-2023 Instacart Basket Analysis'"
   ]
  },
  {
   "cell_type": "code",
   "execution_count": 3,
   "id": "b46c7c59",
   "metadata": {},
   "outputs": [],
   "source": [
    "#Importing dataset 'orders_products_customers.pkl'\n",
    "df_ords_prods_custs = pd.read_pickle(os.path.join(path,'02 Data','Prepared Data','orders_products_customers.pkl'))"
   ]
  },
  {
   "cell_type": "code",
   "execution_count": 4,
   "id": "14372e22",
   "metadata": {},
   "outputs": [],
   "source": [
    "#Importing dataset 'departments_wrangled.csv'\n",
    "df_departments = pd.read_csv(os.path.join(path,'02 Data','Prepared Data','departments_wrangled.csv'), index_col = False)"
   ]
  },
  {
   "cell_type": "code",
   "execution_count": 5,
   "id": "9d4d0f95",
   "metadata": {},
   "outputs": [
    {
     "data": {
      "text/html": [
       "<div>\n",
       "<style scoped>\n",
       "    .dataframe tbody tr th:only-of-type {\n",
       "        vertical-align: middle;\n",
       "    }\n",
       "\n",
       "    .dataframe tbody tr th {\n",
       "        vertical-align: top;\n",
       "    }\n",
       "\n",
       "    .dataframe thead th {\n",
       "        text-align: right;\n",
       "    }\n",
       "</style>\n",
       "<table border=\"1\" class=\"dataframe\">\n",
       "  <thead>\n",
       "    <tr style=\"text-align: right;\">\n",
       "      <th></th>\n",
       "      <th>order_id</th>\n",
       "      <th>user_id</th>\n",
       "      <th>order_number</th>\n",
       "      <th>order_day_of_week</th>\n",
       "      <th>order_hour_of_day</th>\n",
       "      <th>days_since_prior_order</th>\n",
       "      <th>product_id</th>\n",
       "      <th>add_to_cart_order</th>\n",
       "      <th>reordered</th>\n",
       "      <th>product_name</th>\n",
       "      <th>...</th>\n",
       "      <th>median_freq</th>\n",
       "      <th>order_freq_flag</th>\n",
       "      <th>surname</th>\n",
       "      <th>gender</th>\n",
       "      <th>state</th>\n",
       "      <th>age</th>\n",
       "      <th>date_joined</th>\n",
       "      <th>number_dependants</th>\n",
       "      <th>family_status</th>\n",
       "      <th>income</th>\n",
       "    </tr>\n",
       "  </thead>\n",
       "  <tbody>\n",
       "    <tr>\n",
       "      <th>0</th>\n",
       "      <td>2539329</td>\n",
       "      <td>1</td>\n",
       "      <td>1</td>\n",
       "      <td>2</td>\n",
       "      <td>8</td>\n",
       "      <td>NaN</td>\n",
       "      <td>196</td>\n",
       "      <td>1</td>\n",
       "      <td>0</td>\n",
       "      <td>Soda</td>\n",
       "      <td>...</td>\n",
       "      <td>20.5</td>\n",
       "      <td>Non-frequent customer</td>\n",
       "      <td>Nguyen</td>\n",
       "      <td>Female</td>\n",
       "      <td>Alabama</td>\n",
       "      <td>31</td>\n",
       "      <td>2/17/2019</td>\n",
       "      <td>3</td>\n",
       "      <td>married</td>\n",
       "      <td>40423</td>\n",
       "    </tr>\n",
       "    <tr>\n",
       "      <th>1</th>\n",
       "      <td>2398795</td>\n",
       "      <td>1</td>\n",
       "      <td>2</td>\n",
       "      <td>3</td>\n",
       "      <td>7</td>\n",
       "      <td>15.0</td>\n",
       "      <td>196</td>\n",
       "      <td>1</td>\n",
       "      <td>1</td>\n",
       "      <td>Soda</td>\n",
       "      <td>...</td>\n",
       "      <td>20.5</td>\n",
       "      <td>Non-frequent customer</td>\n",
       "      <td>Nguyen</td>\n",
       "      <td>Female</td>\n",
       "      <td>Alabama</td>\n",
       "      <td>31</td>\n",
       "      <td>2/17/2019</td>\n",
       "      <td>3</td>\n",
       "      <td>married</td>\n",
       "      <td>40423</td>\n",
       "    </tr>\n",
       "    <tr>\n",
       "      <th>2</th>\n",
       "      <td>473747</td>\n",
       "      <td>1</td>\n",
       "      <td>3</td>\n",
       "      <td>3</td>\n",
       "      <td>12</td>\n",
       "      <td>21.0</td>\n",
       "      <td>196</td>\n",
       "      <td>1</td>\n",
       "      <td>1</td>\n",
       "      <td>Soda</td>\n",
       "      <td>...</td>\n",
       "      <td>20.5</td>\n",
       "      <td>Non-frequent customer</td>\n",
       "      <td>Nguyen</td>\n",
       "      <td>Female</td>\n",
       "      <td>Alabama</td>\n",
       "      <td>31</td>\n",
       "      <td>2/17/2019</td>\n",
       "      <td>3</td>\n",
       "      <td>married</td>\n",
       "      <td>40423</td>\n",
       "    </tr>\n",
       "    <tr>\n",
       "      <th>3</th>\n",
       "      <td>2254736</td>\n",
       "      <td>1</td>\n",
       "      <td>4</td>\n",
       "      <td>4</td>\n",
       "      <td>7</td>\n",
       "      <td>29.0</td>\n",
       "      <td>196</td>\n",
       "      <td>1</td>\n",
       "      <td>1</td>\n",
       "      <td>Soda</td>\n",
       "      <td>...</td>\n",
       "      <td>20.5</td>\n",
       "      <td>Non-frequent customer</td>\n",
       "      <td>Nguyen</td>\n",
       "      <td>Female</td>\n",
       "      <td>Alabama</td>\n",
       "      <td>31</td>\n",
       "      <td>2/17/2019</td>\n",
       "      <td>3</td>\n",
       "      <td>married</td>\n",
       "      <td>40423</td>\n",
       "    </tr>\n",
       "    <tr>\n",
       "      <th>4</th>\n",
       "      <td>431534</td>\n",
       "      <td>1</td>\n",
       "      <td>5</td>\n",
       "      <td>4</td>\n",
       "      <td>15</td>\n",
       "      <td>28.0</td>\n",
       "      <td>196</td>\n",
       "      <td>1</td>\n",
       "      <td>1</td>\n",
       "      <td>Soda</td>\n",
       "      <td>...</td>\n",
       "      <td>20.5</td>\n",
       "      <td>Non-frequent customer</td>\n",
       "      <td>Nguyen</td>\n",
       "      <td>Female</td>\n",
       "      <td>Alabama</td>\n",
       "      <td>31</td>\n",
       "      <td>2/17/2019</td>\n",
       "      <td>3</td>\n",
       "      <td>married</td>\n",
       "      <td>40423</td>\n",
       "    </tr>\n",
       "  </tbody>\n",
       "</table>\n",
       "<p>5 rows × 31 columns</p>\n",
       "</div>"
      ],
      "text/plain": [
       "   order_id user_id  order_number  order_day_of_week  order_hour_of_day  \\\n",
       "0   2539329       1             1                  2                  8   \n",
       "1   2398795       1             2                  3                  7   \n",
       "2    473747       1             3                  3                 12   \n",
       "3   2254736       1             4                  4                  7   \n",
       "4    431534       1             5                  4                 15   \n",
       "\n",
       "   days_since_prior_order  product_id  add_to_cart_order  reordered  \\\n",
       "0                     NaN         196                  1          0   \n",
       "1                    15.0         196                  1          1   \n",
       "2                    21.0         196                  1          1   \n",
       "3                    29.0         196                  1          1   \n",
       "4                    28.0         196                  1          1   \n",
       "\n",
       "  product_name  ...  median_freq        order_freq_flag  surname  gender  \\\n",
       "0         Soda  ...         20.5  Non-frequent customer   Nguyen  Female   \n",
       "1         Soda  ...         20.5  Non-frequent customer   Nguyen  Female   \n",
       "2         Soda  ...         20.5  Non-frequent customer   Nguyen  Female   \n",
       "3         Soda  ...         20.5  Non-frequent customer   Nguyen  Female   \n",
       "4         Soda  ...         20.5  Non-frequent customer   Nguyen  Female   \n",
       "\n",
       "     state age date_joined  number_dependants family_status  income  \n",
       "0  Alabama  31   2/17/2019                  3       married   40423  \n",
       "1  Alabama  31   2/17/2019                  3       married   40423  \n",
       "2  Alabama  31   2/17/2019                  3       married   40423  \n",
       "3  Alabama  31   2/17/2019                  3       married   40423  \n",
       "4  Alabama  31   2/17/2019                  3       married   40423  \n",
       "\n",
       "[5 rows x 31 columns]"
      ]
     },
     "execution_count": 5,
     "metadata": {},
     "output_type": "execute_result"
    }
   ],
   "source": [
    "df_ords_prods_custs.head()"
   ]
  },
  {
   "cell_type": "code",
   "execution_count": 6,
   "id": "62a262cf",
   "metadata": {},
   "outputs": [],
   "source": [
    "#Downcasting the dataframe\n",
    "for column in df_ords_prods_custs:\n",
    "    if df_ords_prods_custs[column].dtype == 'float64':\n",
    "        df_ords_prods_custs[column] = pd.to_numeric(df_ords_prods_custs[column], downcast = 'float')\n",
    "    if df_ords_prods_custs[column].dtype == 'int64':\n",
    "        df_ords_prods_custs[column] = pd.to_numeric(df_ords_prods_custs[column], downcast = 'integer')"
   ]
  },
  {
   "cell_type": "markdown",
   "id": "46693491",
   "metadata": {},
   "source": [
    "## 2 Consider any security implications that might exist for this new data"
   ]
  },
  {
   "cell_type": "code",
   "execution_count": 7,
   "id": "2752f923",
   "metadata": {},
   "outputs": [],
   "source": [
    "#Displaying all columns in the dataframe\n",
    "pd.set_option('display.max_columns', None)"
   ]
  },
  {
   "cell_type": "code",
   "execution_count": 8,
   "id": "f4fd1a94",
   "metadata": {},
   "outputs": [
    {
     "data": {
      "text/html": [
       "<div>\n",
       "<style scoped>\n",
       "    .dataframe tbody tr th:only-of-type {\n",
       "        vertical-align: middle;\n",
       "    }\n",
       "\n",
       "    .dataframe tbody tr th {\n",
       "        vertical-align: top;\n",
       "    }\n",
       "\n",
       "    .dataframe thead th {\n",
       "        text-align: right;\n",
       "    }\n",
       "</style>\n",
       "<table border=\"1\" class=\"dataframe\">\n",
       "  <thead>\n",
       "    <tr style=\"text-align: right;\">\n",
       "      <th></th>\n",
       "      <th>order_id</th>\n",
       "      <th>user_id</th>\n",
       "      <th>order_number</th>\n",
       "      <th>order_day_of_week</th>\n",
       "      <th>order_hour_of_day</th>\n",
       "      <th>days_since_prior_order</th>\n",
       "      <th>product_id</th>\n",
       "      <th>add_to_cart_order</th>\n",
       "      <th>reordered</th>\n",
       "      <th>product_name</th>\n",
       "      <th>aisle_id</th>\n",
       "      <th>department_id</th>\n",
       "      <th>prices</th>\n",
       "      <th>price_range_loc</th>\n",
       "      <th>busiest_day</th>\n",
       "      <th>busiest_days</th>\n",
       "      <th>busiest_period_of_day</th>\n",
       "      <th>max_order</th>\n",
       "      <th>loyalty_flag</th>\n",
       "      <th>avg_price</th>\n",
       "      <th>spending_flag</th>\n",
       "      <th>median_freq</th>\n",
       "      <th>order_freq_flag</th>\n",
       "      <th>surname</th>\n",
       "      <th>gender</th>\n",
       "      <th>state</th>\n",
       "      <th>age</th>\n",
       "      <th>date_joined</th>\n",
       "      <th>number_dependants</th>\n",
       "      <th>family_status</th>\n",
       "      <th>income</th>\n",
       "    </tr>\n",
       "  </thead>\n",
       "  <tbody>\n",
       "    <tr>\n",
       "      <th>0</th>\n",
       "      <td>2539329</td>\n",
       "      <td>1</td>\n",
       "      <td>1</td>\n",
       "      <td>2</td>\n",
       "      <td>8</td>\n",
       "      <td>NaN</td>\n",
       "      <td>196</td>\n",
       "      <td>1</td>\n",
       "      <td>0</td>\n",
       "      <td>Soda</td>\n",
       "      <td>77</td>\n",
       "      <td>7</td>\n",
       "      <td>9.0</td>\n",
       "      <td>Mid-range product</td>\n",
       "      <td>Regularly busy</td>\n",
       "      <td>Regularly busy</td>\n",
       "      <td>Average orders</td>\n",
       "      <td>10</td>\n",
       "      <td>New customer</td>\n",
       "      <td>6.367796</td>\n",
       "      <td>Low spender</td>\n",
       "      <td>20.5</td>\n",
       "      <td>Non-frequent customer</td>\n",
       "      <td>Nguyen</td>\n",
       "      <td>Female</td>\n",
       "      <td>Alabama</td>\n",
       "      <td>31</td>\n",
       "      <td>2/17/2019</td>\n",
       "      <td>3</td>\n",
       "      <td>married</td>\n",
       "      <td>40423</td>\n",
       "    </tr>\n",
       "    <tr>\n",
       "      <th>1</th>\n",
       "      <td>2398795</td>\n",
       "      <td>1</td>\n",
       "      <td>2</td>\n",
       "      <td>3</td>\n",
       "      <td>7</td>\n",
       "      <td>15.0</td>\n",
       "      <td>196</td>\n",
       "      <td>1</td>\n",
       "      <td>1</td>\n",
       "      <td>Soda</td>\n",
       "      <td>77</td>\n",
       "      <td>7</td>\n",
       "      <td>9.0</td>\n",
       "      <td>Mid-range product</td>\n",
       "      <td>Regularly busy</td>\n",
       "      <td>Slowest days</td>\n",
       "      <td>Average orders</td>\n",
       "      <td>10</td>\n",
       "      <td>New customer</td>\n",
       "      <td>6.367796</td>\n",
       "      <td>Low spender</td>\n",
       "      <td>20.5</td>\n",
       "      <td>Non-frequent customer</td>\n",
       "      <td>Nguyen</td>\n",
       "      <td>Female</td>\n",
       "      <td>Alabama</td>\n",
       "      <td>31</td>\n",
       "      <td>2/17/2019</td>\n",
       "      <td>3</td>\n",
       "      <td>married</td>\n",
       "      <td>40423</td>\n",
       "    </tr>\n",
       "    <tr>\n",
       "      <th>2</th>\n",
       "      <td>473747</td>\n",
       "      <td>1</td>\n",
       "      <td>3</td>\n",
       "      <td>3</td>\n",
       "      <td>12</td>\n",
       "      <td>21.0</td>\n",
       "      <td>196</td>\n",
       "      <td>1</td>\n",
       "      <td>1</td>\n",
       "      <td>Soda</td>\n",
       "      <td>77</td>\n",
       "      <td>7</td>\n",
       "      <td>9.0</td>\n",
       "      <td>Mid-range product</td>\n",
       "      <td>Regularly busy</td>\n",
       "      <td>Slowest days</td>\n",
       "      <td>Most orders</td>\n",
       "      <td>10</td>\n",
       "      <td>New customer</td>\n",
       "      <td>6.367796</td>\n",
       "      <td>Low spender</td>\n",
       "      <td>20.5</td>\n",
       "      <td>Non-frequent customer</td>\n",
       "      <td>Nguyen</td>\n",
       "      <td>Female</td>\n",
       "      <td>Alabama</td>\n",
       "      <td>31</td>\n",
       "      <td>2/17/2019</td>\n",
       "      <td>3</td>\n",
       "      <td>married</td>\n",
       "      <td>40423</td>\n",
       "    </tr>\n",
       "    <tr>\n",
       "      <th>3</th>\n",
       "      <td>2254736</td>\n",
       "      <td>1</td>\n",
       "      <td>4</td>\n",
       "      <td>4</td>\n",
       "      <td>7</td>\n",
       "      <td>29.0</td>\n",
       "      <td>196</td>\n",
       "      <td>1</td>\n",
       "      <td>1</td>\n",
       "      <td>Soda</td>\n",
       "      <td>77</td>\n",
       "      <td>7</td>\n",
       "      <td>9.0</td>\n",
       "      <td>Mid-range product</td>\n",
       "      <td>Least busy</td>\n",
       "      <td>Slowest days</td>\n",
       "      <td>Average orders</td>\n",
       "      <td>10</td>\n",
       "      <td>New customer</td>\n",
       "      <td>6.367796</td>\n",
       "      <td>Low spender</td>\n",
       "      <td>20.5</td>\n",
       "      <td>Non-frequent customer</td>\n",
       "      <td>Nguyen</td>\n",
       "      <td>Female</td>\n",
       "      <td>Alabama</td>\n",
       "      <td>31</td>\n",
       "      <td>2/17/2019</td>\n",
       "      <td>3</td>\n",
       "      <td>married</td>\n",
       "      <td>40423</td>\n",
       "    </tr>\n",
       "    <tr>\n",
       "      <th>4</th>\n",
       "      <td>431534</td>\n",
       "      <td>1</td>\n",
       "      <td>5</td>\n",
       "      <td>4</td>\n",
       "      <td>15</td>\n",
       "      <td>28.0</td>\n",
       "      <td>196</td>\n",
       "      <td>1</td>\n",
       "      <td>1</td>\n",
       "      <td>Soda</td>\n",
       "      <td>77</td>\n",
       "      <td>7</td>\n",
       "      <td>9.0</td>\n",
       "      <td>Mid-range product</td>\n",
       "      <td>Least busy</td>\n",
       "      <td>Slowest days</td>\n",
       "      <td>Most orders</td>\n",
       "      <td>10</td>\n",
       "      <td>New customer</td>\n",
       "      <td>6.367796</td>\n",
       "      <td>Low spender</td>\n",
       "      <td>20.5</td>\n",
       "      <td>Non-frequent customer</td>\n",
       "      <td>Nguyen</td>\n",
       "      <td>Female</td>\n",
       "      <td>Alabama</td>\n",
       "      <td>31</td>\n",
       "      <td>2/17/2019</td>\n",
       "      <td>3</td>\n",
       "      <td>married</td>\n",
       "      <td>40423</td>\n",
       "    </tr>\n",
       "  </tbody>\n",
       "</table>\n",
       "</div>"
      ],
      "text/plain": [
       "   order_id user_id  order_number  order_day_of_week  order_hour_of_day  \\\n",
       "0   2539329       1             1                  2                  8   \n",
       "1   2398795       1             2                  3                  7   \n",
       "2    473747       1             3                  3                 12   \n",
       "3   2254736       1             4                  4                  7   \n",
       "4    431534       1             5                  4                 15   \n",
       "\n",
       "   days_since_prior_order  product_id  add_to_cart_order  reordered  \\\n",
       "0                     NaN         196                  1          0   \n",
       "1                    15.0         196                  1          1   \n",
       "2                    21.0         196                  1          1   \n",
       "3                    29.0         196                  1          1   \n",
       "4                    28.0         196                  1          1   \n",
       "\n",
       "  product_name  aisle_id  department_id  prices    price_range_loc  \\\n",
       "0         Soda        77              7     9.0  Mid-range product   \n",
       "1         Soda        77              7     9.0  Mid-range product   \n",
       "2         Soda        77              7     9.0  Mid-range product   \n",
       "3         Soda        77              7     9.0  Mid-range product   \n",
       "4         Soda        77              7     9.0  Mid-range product   \n",
       "\n",
       "      busiest_day    busiest_days busiest_period_of_day  max_order  \\\n",
       "0  Regularly busy  Regularly busy        Average orders         10   \n",
       "1  Regularly busy    Slowest days        Average orders         10   \n",
       "2  Regularly busy    Slowest days           Most orders         10   \n",
       "3      Least busy    Slowest days        Average orders         10   \n",
       "4      Least busy    Slowest days           Most orders         10   \n",
       "\n",
       "   loyalty_flag  avg_price spending_flag  median_freq        order_freq_flag  \\\n",
       "0  New customer   6.367796   Low spender         20.5  Non-frequent customer   \n",
       "1  New customer   6.367796   Low spender         20.5  Non-frequent customer   \n",
       "2  New customer   6.367796   Low spender         20.5  Non-frequent customer   \n",
       "3  New customer   6.367796   Low spender         20.5  Non-frequent customer   \n",
       "4  New customer   6.367796   Low spender         20.5  Non-frequent customer   \n",
       "\n",
       "  surname  gender    state  age date_joined  number_dependants family_status  \\\n",
       "0  Nguyen  Female  Alabama   31   2/17/2019                  3       married   \n",
       "1  Nguyen  Female  Alabama   31   2/17/2019                  3       married   \n",
       "2  Nguyen  Female  Alabama   31   2/17/2019                  3       married   \n",
       "3  Nguyen  Female  Alabama   31   2/17/2019                  3       married   \n",
       "4  Nguyen  Female  Alabama   31   2/17/2019                  3       married   \n",
       "\n",
       "   income  \n",
       "0   40423  \n",
       "1   40423  \n",
       "2   40423  \n",
       "3   40423  \n",
       "4   40423  "
      ]
     },
     "execution_count": 8,
     "metadata": {},
     "output_type": "execute_result"
    }
   ],
   "source": [
    "df_ords_prods_custs.head()"
   ]
  },
  {
   "cell_type": "markdown",
   "id": "879e9560",
   "metadata": {},
   "source": [
    "#### In previous task, the first name has been removed due to missing values. For security reasons the 'surname' column will be removed as well."
   ]
  },
  {
   "cell_type": "code",
   "execution_count": 9,
   "id": "150b3f3c",
   "metadata": {},
   "outputs": [],
   "source": [
    "#Removing the 'surname' column\n",
    "df_ords_prods_custs.drop('surname', axis = 1, inplace = True)"
   ]
  },
  {
   "cell_type": "code",
   "execution_count": 10,
   "id": "7c063595",
   "metadata": {},
   "outputs": [
    {
     "data": {
      "text/html": [
       "<div>\n",
       "<style scoped>\n",
       "    .dataframe tbody tr th:only-of-type {\n",
       "        vertical-align: middle;\n",
       "    }\n",
       "\n",
       "    .dataframe tbody tr th {\n",
       "        vertical-align: top;\n",
       "    }\n",
       "\n",
       "    .dataframe thead th {\n",
       "        text-align: right;\n",
       "    }\n",
       "</style>\n",
       "<table border=\"1\" class=\"dataframe\">\n",
       "  <thead>\n",
       "    <tr style=\"text-align: right;\">\n",
       "      <th></th>\n",
       "      <th>order_id</th>\n",
       "      <th>user_id</th>\n",
       "      <th>order_number</th>\n",
       "      <th>order_day_of_week</th>\n",
       "      <th>order_hour_of_day</th>\n",
       "      <th>days_since_prior_order</th>\n",
       "      <th>product_id</th>\n",
       "      <th>add_to_cart_order</th>\n",
       "      <th>reordered</th>\n",
       "      <th>product_name</th>\n",
       "      <th>aisle_id</th>\n",
       "      <th>department_id</th>\n",
       "      <th>prices</th>\n",
       "      <th>price_range_loc</th>\n",
       "      <th>busiest_day</th>\n",
       "      <th>busiest_days</th>\n",
       "      <th>busiest_period_of_day</th>\n",
       "      <th>max_order</th>\n",
       "      <th>loyalty_flag</th>\n",
       "      <th>avg_price</th>\n",
       "      <th>spending_flag</th>\n",
       "      <th>median_freq</th>\n",
       "      <th>order_freq_flag</th>\n",
       "      <th>gender</th>\n",
       "      <th>state</th>\n",
       "      <th>age</th>\n",
       "      <th>date_joined</th>\n",
       "      <th>number_dependants</th>\n",
       "      <th>family_status</th>\n",
       "      <th>income</th>\n",
       "    </tr>\n",
       "  </thead>\n",
       "  <tbody>\n",
       "    <tr>\n",
       "      <th>0</th>\n",
       "      <td>2539329</td>\n",
       "      <td>1</td>\n",
       "      <td>1</td>\n",
       "      <td>2</td>\n",
       "      <td>8</td>\n",
       "      <td>NaN</td>\n",
       "      <td>196</td>\n",
       "      <td>1</td>\n",
       "      <td>0</td>\n",
       "      <td>Soda</td>\n",
       "      <td>77</td>\n",
       "      <td>7</td>\n",
       "      <td>9.0</td>\n",
       "      <td>Mid-range product</td>\n",
       "      <td>Regularly busy</td>\n",
       "      <td>Regularly busy</td>\n",
       "      <td>Average orders</td>\n",
       "      <td>10</td>\n",
       "      <td>New customer</td>\n",
       "      <td>6.367796</td>\n",
       "      <td>Low spender</td>\n",
       "      <td>20.5</td>\n",
       "      <td>Non-frequent customer</td>\n",
       "      <td>Female</td>\n",
       "      <td>Alabama</td>\n",
       "      <td>31</td>\n",
       "      <td>2/17/2019</td>\n",
       "      <td>3</td>\n",
       "      <td>married</td>\n",
       "      <td>40423</td>\n",
       "    </tr>\n",
       "    <tr>\n",
       "      <th>1</th>\n",
       "      <td>2398795</td>\n",
       "      <td>1</td>\n",
       "      <td>2</td>\n",
       "      <td>3</td>\n",
       "      <td>7</td>\n",
       "      <td>15.0</td>\n",
       "      <td>196</td>\n",
       "      <td>1</td>\n",
       "      <td>1</td>\n",
       "      <td>Soda</td>\n",
       "      <td>77</td>\n",
       "      <td>7</td>\n",
       "      <td>9.0</td>\n",
       "      <td>Mid-range product</td>\n",
       "      <td>Regularly busy</td>\n",
       "      <td>Slowest days</td>\n",
       "      <td>Average orders</td>\n",
       "      <td>10</td>\n",
       "      <td>New customer</td>\n",
       "      <td>6.367796</td>\n",
       "      <td>Low spender</td>\n",
       "      <td>20.5</td>\n",
       "      <td>Non-frequent customer</td>\n",
       "      <td>Female</td>\n",
       "      <td>Alabama</td>\n",
       "      <td>31</td>\n",
       "      <td>2/17/2019</td>\n",
       "      <td>3</td>\n",
       "      <td>married</td>\n",
       "      <td>40423</td>\n",
       "    </tr>\n",
       "    <tr>\n",
       "      <th>2</th>\n",
       "      <td>473747</td>\n",
       "      <td>1</td>\n",
       "      <td>3</td>\n",
       "      <td>3</td>\n",
       "      <td>12</td>\n",
       "      <td>21.0</td>\n",
       "      <td>196</td>\n",
       "      <td>1</td>\n",
       "      <td>1</td>\n",
       "      <td>Soda</td>\n",
       "      <td>77</td>\n",
       "      <td>7</td>\n",
       "      <td>9.0</td>\n",
       "      <td>Mid-range product</td>\n",
       "      <td>Regularly busy</td>\n",
       "      <td>Slowest days</td>\n",
       "      <td>Most orders</td>\n",
       "      <td>10</td>\n",
       "      <td>New customer</td>\n",
       "      <td>6.367796</td>\n",
       "      <td>Low spender</td>\n",
       "      <td>20.5</td>\n",
       "      <td>Non-frequent customer</td>\n",
       "      <td>Female</td>\n",
       "      <td>Alabama</td>\n",
       "      <td>31</td>\n",
       "      <td>2/17/2019</td>\n",
       "      <td>3</td>\n",
       "      <td>married</td>\n",
       "      <td>40423</td>\n",
       "    </tr>\n",
       "    <tr>\n",
       "      <th>3</th>\n",
       "      <td>2254736</td>\n",
       "      <td>1</td>\n",
       "      <td>4</td>\n",
       "      <td>4</td>\n",
       "      <td>7</td>\n",
       "      <td>29.0</td>\n",
       "      <td>196</td>\n",
       "      <td>1</td>\n",
       "      <td>1</td>\n",
       "      <td>Soda</td>\n",
       "      <td>77</td>\n",
       "      <td>7</td>\n",
       "      <td>9.0</td>\n",
       "      <td>Mid-range product</td>\n",
       "      <td>Least busy</td>\n",
       "      <td>Slowest days</td>\n",
       "      <td>Average orders</td>\n",
       "      <td>10</td>\n",
       "      <td>New customer</td>\n",
       "      <td>6.367796</td>\n",
       "      <td>Low spender</td>\n",
       "      <td>20.5</td>\n",
       "      <td>Non-frequent customer</td>\n",
       "      <td>Female</td>\n",
       "      <td>Alabama</td>\n",
       "      <td>31</td>\n",
       "      <td>2/17/2019</td>\n",
       "      <td>3</td>\n",
       "      <td>married</td>\n",
       "      <td>40423</td>\n",
       "    </tr>\n",
       "    <tr>\n",
       "      <th>4</th>\n",
       "      <td>431534</td>\n",
       "      <td>1</td>\n",
       "      <td>5</td>\n",
       "      <td>4</td>\n",
       "      <td>15</td>\n",
       "      <td>28.0</td>\n",
       "      <td>196</td>\n",
       "      <td>1</td>\n",
       "      <td>1</td>\n",
       "      <td>Soda</td>\n",
       "      <td>77</td>\n",
       "      <td>7</td>\n",
       "      <td>9.0</td>\n",
       "      <td>Mid-range product</td>\n",
       "      <td>Least busy</td>\n",
       "      <td>Slowest days</td>\n",
       "      <td>Most orders</td>\n",
       "      <td>10</td>\n",
       "      <td>New customer</td>\n",
       "      <td>6.367796</td>\n",
       "      <td>Low spender</td>\n",
       "      <td>20.5</td>\n",
       "      <td>Non-frequent customer</td>\n",
       "      <td>Female</td>\n",
       "      <td>Alabama</td>\n",
       "      <td>31</td>\n",
       "      <td>2/17/2019</td>\n",
       "      <td>3</td>\n",
       "      <td>married</td>\n",
       "      <td>40423</td>\n",
       "    </tr>\n",
       "  </tbody>\n",
       "</table>\n",
       "</div>"
      ],
      "text/plain": [
       "   order_id user_id  order_number  order_day_of_week  order_hour_of_day  \\\n",
       "0   2539329       1             1                  2                  8   \n",
       "1   2398795       1             2                  3                  7   \n",
       "2    473747       1             3                  3                 12   \n",
       "3   2254736       1             4                  4                  7   \n",
       "4    431534       1             5                  4                 15   \n",
       "\n",
       "   days_since_prior_order  product_id  add_to_cart_order  reordered  \\\n",
       "0                     NaN         196                  1          0   \n",
       "1                    15.0         196                  1          1   \n",
       "2                    21.0         196                  1          1   \n",
       "3                    29.0         196                  1          1   \n",
       "4                    28.0         196                  1          1   \n",
       "\n",
       "  product_name  aisle_id  department_id  prices    price_range_loc  \\\n",
       "0         Soda        77              7     9.0  Mid-range product   \n",
       "1         Soda        77              7     9.0  Mid-range product   \n",
       "2         Soda        77              7     9.0  Mid-range product   \n",
       "3         Soda        77              7     9.0  Mid-range product   \n",
       "4         Soda        77              7     9.0  Mid-range product   \n",
       "\n",
       "      busiest_day    busiest_days busiest_period_of_day  max_order  \\\n",
       "0  Regularly busy  Regularly busy        Average orders         10   \n",
       "1  Regularly busy    Slowest days        Average orders         10   \n",
       "2  Regularly busy    Slowest days           Most orders         10   \n",
       "3      Least busy    Slowest days        Average orders         10   \n",
       "4      Least busy    Slowest days           Most orders         10   \n",
       "\n",
       "   loyalty_flag  avg_price spending_flag  median_freq        order_freq_flag  \\\n",
       "0  New customer   6.367796   Low spender         20.5  Non-frequent customer   \n",
       "1  New customer   6.367796   Low spender         20.5  Non-frequent customer   \n",
       "2  New customer   6.367796   Low spender         20.5  Non-frequent customer   \n",
       "3  New customer   6.367796   Low spender         20.5  Non-frequent customer   \n",
       "4  New customer   6.367796   Low spender         20.5  Non-frequent customer   \n",
       "\n",
       "   gender    state  age date_joined  number_dependants family_status  income  \n",
       "0  Female  Alabama   31   2/17/2019                  3       married   40423  \n",
       "1  Female  Alabama   31   2/17/2019                  3       married   40423  \n",
       "2  Female  Alabama   31   2/17/2019                  3       married   40423  \n",
       "3  Female  Alabama   31   2/17/2019                  3       married   40423  \n",
       "4  Female  Alabama   31   2/17/2019                  3       married   40423  "
      ]
     },
     "execution_count": 10,
     "metadata": {},
     "output_type": "execute_result"
    }
   ],
   "source": [
    "df_ords_prods_custs.head()"
   ]
  },
  {
   "cell_type": "markdown",
   "id": "6fa1dbad",
   "metadata": {},
   "source": [
    "## 3.1 Create a regional segmentation of the data"
   ]
  },
  {
   "cell_type": "code",
   "execution_count": 11,
   "id": "f22c2598",
   "metadata": {},
   "outputs": [
    {
     "data": {
      "text/plain": [
       "Pennsylvania            667082\n",
       "California              659783\n",
       "Rhode Island            656913\n",
       "Georgia                 656389\n",
       "New Mexico              654494\n",
       "Arizona                 653964\n",
       "North Carolina          651900\n",
       "Oklahoma                651739\n",
       "Alaska                  648495\n",
       "Minnesota               647825\n",
       "Massachusetts           646358\n",
       "Wyoming                 644255\n",
       "Virginia                641421\n",
       "Missouri                640732\n",
       "Texas                   640394\n",
       "Colorado                639280\n",
       "Maine                   638583\n",
       "North Dakota            638491\n",
       "Alabama                 638003\n",
       "Kansas                  637538\n",
       "Louisiana               637482\n",
       "Delaware                637024\n",
       "South Carolina          636754\n",
       "Oregon                  636425\n",
       "Arkansas                636144\n",
       "Nevada                  636139\n",
       "New York                635983\n",
       "Montana                 635265\n",
       "South Dakota            633772\n",
       "Illinois                633024\n",
       "Hawaii                  632901\n",
       "Washington              632852\n",
       "Mississippi             632675\n",
       "Kentucky                632490\n",
       "Michigan                630928\n",
       "Florida                 629027\n",
       "Ohio                    628319\n",
       "Wisconsin               628108\n",
       "New Jersey              627692\n",
       "Indiana                 627282\n",
       "Maryland                626579\n",
       "Nebraska                625813\n",
       "Iowa                    625493\n",
       "Connecticut             623022\n",
       "Tennessee               617873\n",
       "New Hampshire           615378\n",
       "District of Columbia    613695\n",
       "West Virginia           612296\n",
       "Utah                    611941\n",
       "Vermont                 611725\n",
       "Idaho                   607119\n",
       "Name: state, dtype: int64"
      ]
     },
     "execution_count": 11,
     "metadata": {},
     "output_type": "execute_result"
    }
   ],
   "source": [
    "#Checking states counts in the dataframe\n",
    "df_ords_prods_custs['state'].value_counts(dropna = False)"
   ]
  },
  {
   "cell_type": "code",
   "execution_count": 12,
   "id": "0185242a",
   "metadata": {},
   "outputs": [],
   "source": [
    "#Defining the regions\n",
    "region_1_NE = ['Maine', 'New Hampshire', 'Vermont', 'Massachusetts', 'Rhode Island', 'Connecticut', 'New York', 'Pennsylvania', 'New Jersey']\n",
    "region_2_MW = ['Wisconsin', 'Michigan', 'Illinois', 'Indiana', 'Ohio', 'North Dakota', 'South Dakota', 'Nebraska', 'Kansas', 'Minnesota', 'Iowa', 'Missouri']\n",
    "region_3_S = ['Delaware', 'Maryland', 'District of Columbia', 'Virginia', 'West Virginia', 'North Carolina', 'South Carolina', 'Georgia', 'Florida', 'Kentucky', 'Tennessee', 'Mississippi', 'Alabama', 'Oklahoma', 'Texas', 'Arkansas', 'Louisiana']\n",
    "region_4_W = ['Idaho', 'Montana', 'Wyoming', 'Nevada', 'Utah', 'Colorado', 'Arizona', 'New Mexico', 'Alaska', 'Washington', 'Oregon', 'California', 'Hawaii']"
   ]
  },
  {
   "cell_type": "code",
   "execution_count": 13,
   "id": "a2637d34",
   "metadata": {},
   "outputs": [],
   "source": [
    "#Creating a new 'region' column and assigning the values\n",
    "df_ords_prods_custs.loc[df_ords_prods_custs['state'].isin(region_1_NE), 'region'] = 'Northeast'"
   ]
  },
  {
   "cell_type": "code",
   "execution_count": 14,
   "id": "4f85ea62",
   "metadata": {},
   "outputs": [],
   "source": [
    "df_ords_prods_custs.loc[df_ords_prods_custs['state'].isin(region_2_MW), 'region'] = 'Midwest'"
   ]
  },
  {
   "cell_type": "code",
   "execution_count": 15,
   "id": "648ac0a0",
   "metadata": {},
   "outputs": [],
   "source": [
    "df_ords_prods_custs.loc[df_ords_prods_custs['state'].isin(region_3_S), 'region'] = 'South'"
   ]
  },
  {
   "cell_type": "code",
   "execution_count": 16,
   "id": "66c247e3",
   "metadata": {},
   "outputs": [],
   "source": [
    "df_ords_prods_custs.loc[df_ords_prods_custs['state'].isin(region_4_W), 'region'] = 'West'"
   ]
  },
  {
   "cell_type": "code",
   "execution_count": 17,
   "id": "e1993811",
   "metadata": {},
   "outputs": [
    {
     "data": {
      "text/html": [
       "<div>\n",
       "<style scoped>\n",
       "    .dataframe tbody tr th:only-of-type {\n",
       "        vertical-align: middle;\n",
       "    }\n",
       "\n",
       "    .dataframe tbody tr th {\n",
       "        vertical-align: top;\n",
       "    }\n",
       "\n",
       "    .dataframe thead th {\n",
       "        text-align: right;\n",
       "    }\n",
       "</style>\n",
       "<table border=\"1\" class=\"dataframe\">\n",
       "  <thead>\n",
       "    <tr style=\"text-align: right;\">\n",
       "      <th></th>\n",
       "      <th>order_id</th>\n",
       "      <th>user_id</th>\n",
       "      <th>order_number</th>\n",
       "      <th>order_day_of_week</th>\n",
       "      <th>order_hour_of_day</th>\n",
       "      <th>days_since_prior_order</th>\n",
       "      <th>product_id</th>\n",
       "      <th>add_to_cart_order</th>\n",
       "      <th>reordered</th>\n",
       "      <th>product_name</th>\n",
       "      <th>aisle_id</th>\n",
       "      <th>department_id</th>\n",
       "      <th>prices</th>\n",
       "      <th>price_range_loc</th>\n",
       "      <th>busiest_day</th>\n",
       "      <th>busiest_days</th>\n",
       "      <th>busiest_period_of_day</th>\n",
       "      <th>max_order</th>\n",
       "      <th>loyalty_flag</th>\n",
       "      <th>avg_price</th>\n",
       "      <th>spending_flag</th>\n",
       "      <th>median_freq</th>\n",
       "      <th>order_freq_flag</th>\n",
       "      <th>gender</th>\n",
       "      <th>state</th>\n",
       "      <th>age</th>\n",
       "      <th>date_joined</th>\n",
       "      <th>number_dependants</th>\n",
       "      <th>family_status</th>\n",
       "      <th>income</th>\n",
       "      <th>region</th>\n",
       "    </tr>\n",
       "  </thead>\n",
       "  <tbody>\n",
       "    <tr>\n",
       "      <th>0</th>\n",
       "      <td>2539329</td>\n",
       "      <td>1</td>\n",
       "      <td>1</td>\n",
       "      <td>2</td>\n",
       "      <td>8</td>\n",
       "      <td>NaN</td>\n",
       "      <td>196</td>\n",
       "      <td>1</td>\n",
       "      <td>0</td>\n",
       "      <td>Soda</td>\n",
       "      <td>77</td>\n",
       "      <td>7</td>\n",
       "      <td>9.0</td>\n",
       "      <td>Mid-range product</td>\n",
       "      <td>Regularly busy</td>\n",
       "      <td>Regularly busy</td>\n",
       "      <td>Average orders</td>\n",
       "      <td>10</td>\n",
       "      <td>New customer</td>\n",
       "      <td>6.367796</td>\n",
       "      <td>Low spender</td>\n",
       "      <td>20.5</td>\n",
       "      <td>Non-frequent customer</td>\n",
       "      <td>Female</td>\n",
       "      <td>Alabama</td>\n",
       "      <td>31</td>\n",
       "      <td>2/17/2019</td>\n",
       "      <td>3</td>\n",
       "      <td>married</td>\n",
       "      <td>40423</td>\n",
       "      <td>South</td>\n",
       "    </tr>\n",
       "    <tr>\n",
       "      <th>1</th>\n",
       "      <td>2398795</td>\n",
       "      <td>1</td>\n",
       "      <td>2</td>\n",
       "      <td>3</td>\n",
       "      <td>7</td>\n",
       "      <td>15.0</td>\n",
       "      <td>196</td>\n",
       "      <td>1</td>\n",
       "      <td>1</td>\n",
       "      <td>Soda</td>\n",
       "      <td>77</td>\n",
       "      <td>7</td>\n",
       "      <td>9.0</td>\n",
       "      <td>Mid-range product</td>\n",
       "      <td>Regularly busy</td>\n",
       "      <td>Slowest days</td>\n",
       "      <td>Average orders</td>\n",
       "      <td>10</td>\n",
       "      <td>New customer</td>\n",
       "      <td>6.367796</td>\n",
       "      <td>Low spender</td>\n",
       "      <td>20.5</td>\n",
       "      <td>Non-frequent customer</td>\n",
       "      <td>Female</td>\n",
       "      <td>Alabama</td>\n",
       "      <td>31</td>\n",
       "      <td>2/17/2019</td>\n",
       "      <td>3</td>\n",
       "      <td>married</td>\n",
       "      <td>40423</td>\n",
       "      <td>South</td>\n",
       "    </tr>\n",
       "    <tr>\n",
       "      <th>2</th>\n",
       "      <td>473747</td>\n",
       "      <td>1</td>\n",
       "      <td>3</td>\n",
       "      <td>3</td>\n",
       "      <td>12</td>\n",
       "      <td>21.0</td>\n",
       "      <td>196</td>\n",
       "      <td>1</td>\n",
       "      <td>1</td>\n",
       "      <td>Soda</td>\n",
       "      <td>77</td>\n",
       "      <td>7</td>\n",
       "      <td>9.0</td>\n",
       "      <td>Mid-range product</td>\n",
       "      <td>Regularly busy</td>\n",
       "      <td>Slowest days</td>\n",
       "      <td>Most orders</td>\n",
       "      <td>10</td>\n",
       "      <td>New customer</td>\n",
       "      <td>6.367796</td>\n",
       "      <td>Low spender</td>\n",
       "      <td>20.5</td>\n",
       "      <td>Non-frequent customer</td>\n",
       "      <td>Female</td>\n",
       "      <td>Alabama</td>\n",
       "      <td>31</td>\n",
       "      <td>2/17/2019</td>\n",
       "      <td>3</td>\n",
       "      <td>married</td>\n",
       "      <td>40423</td>\n",
       "      <td>South</td>\n",
       "    </tr>\n",
       "    <tr>\n",
       "      <th>3</th>\n",
       "      <td>2254736</td>\n",
       "      <td>1</td>\n",
       "      <td>4</td>\n",
       "      <td>4</td>\n",
       "      <td>7</td>\n",
       "      <td>29.0</td>\n",
       "      <td>196</td>\n",
       "      <td>1</td>\n",
       "      <td>1</td>\n",
       "      <td>Soda</td>\n",
       "      <td>77</td>\n",
       "      <td>7</td>\n",
       "      <td>9.0</td>\n",
       "      <td>Mid-range product</td>\n",
       "      <td>Least busy</td>\n",
       "      <td>Slowest days</td>\n",
       "      <td>Average orders</td>\n",
       "      <td>10</td>\n",
       "      <td>New customer</td>\n",
       "      <td>6.367796</td>\n",
       "      <td>Low spender</td>\n",
       "      <td>20.5</td>\n",
       "      <td>Non-frequent customer</td>\n",
       "      <td>Female</td>\n",
       "      <td>Alabama</td>\n",
       "      <td>31</td>\n",
       "      <td>2/17/2019</td>\n",
       "      <td>3</td>\n",
       "      <td>married</td>\n",
       "      <td>40423</td>\n",
       "      <td>South</td>\n",
       "    </tr>\n",
       "    <tr>\n",
       "      <th>4</th>\n",
       "      <td>431534</td>\n",
       "      <td>1</td>\n",
       "      <td>5</td>\n",
       "      <td>4</td>\n",
       "      <td>15</td>\n",
       "      <td>28.0</td>\n",
       "      <td>196</td>\n",
       "      <td>1</td>\n",
       "      <td>1</td>\n",
       "      <td>Soda</td>\n",
       "      <td>77</td>\n",
       "      <td>7</td>\n",
       "      <td>9.0</td>\n",
       "      <td>Mid-range product</td>\n",
       "      <td>Least busy</td>\n",
       "      <td>Slowest days</td>\n",
       "      <td>Most orders</td>\n",
       "      <td>10</td>\n",
       "      <td>New customer</td>\n",
       "      <td>6.367796</td>\n",
       "      <td>Low spender</td>\n",
       "      <td>20.5</td>\n",
       "      <td>Non-frequent customer</td>\n",
       "      <td>Female</td>\n",
       "      <td>Alabama</td>\n",
       "      <td>31</td>\n",
       "      <td>2/17/2019</td>\n",
       "      <td>3</td>\n",
       "      <td>married</td>\n",
       "      <td>40423</td>\n",
       "      <td>South</td>\n",
       "    </tr>\n",
       "  </tbody>\n",
       "</table>\n",
       "</div>"
      ],
      "text/plain": [
       "   order_id user_id  order_number  order_day_of_week  order_hour_of_day  \\\n",
       "0   2539329       1             1                  2                  8   \n",
       "1   2398795       1             2                  3                  7   \n",
       "2    473747       1             3                  3                 12   \n",
       "3   2254736       1             4                  4                  7   \n",
       "4    431534       1             5                  4                 15   \n",
       "\n",
       "   days_since_prior_order  product_id  add_to_cart_order  reordered  \\\n",
       "0                     NaN         196                  1          0   \n",
       "1                    15.0         196                  1          1   \n",
       "2                    21.0         196                  1          1   \n",
       "3                    29.0         196                  1          1   \n",
       "4                    28.0         196                  1          1   \n",
       "\n",
       "  product_name  aisle_id  department_id  prices    price_range_loc  \\\n",
       "0         Soda        77              7     9.0  Mid-range product   \n",
       "1         Soda        77              7     9.0  Mid-range product   \n",
       "2         Soda        77              7     9.0  Mid-range product   \n",
       "3         Soda        77              7     9.0  Mid-range product   \n",
       "4         Soda        77              7     9.0  Mid-range product   \n",
       "\n",
       "      busiest_day    busiest_days busiest_period_of_day  max_order  \\\n",
       "0  Regularly busy  Regularly busy        Average orders         10   \n",
       "1  Regularly busy    Slowest days        Average orders         10   \n",
       "2  Regularly busy    Slowest days           Most orders         10   \n",
       "3      Least busy    Slowest days        Average orders         10   \n",
       "4      Least busy    Slowest days           Most orders         10   \n",
       "\n",
       "   loyalty_flag  avg_price spending_flag  median_freq        order_freq_flag  \\\n",
       "0  New customer   6.367796   Low spender         20.5  Non-frequent customer   \n",
       "1  New customer   6.367796   Low spender         20.5  Non-frequent customer   \n",
       "2  New customer   6.367796   Low spender         20.5  Non-frequent customer   \n",
       "3  New customer   6.367796   Low spender         20.5  Non-frequent customer   \n",
       "4  New customer   6.367796   Low spender         20.5  Non-frequent customer   \n",
       "\n",
       "   gender    state  age date_joined  number_dependants family_status  income  \\\n",
       "0  Female  Alabama   31   2/17/2019                  3       married   40423   \n",
       "1  Female  Alabama   31   2/17/2019                  3       married   40423   \n",
       "2  Female  Alabama   31   2/17/2019                  3       married   40423   \n",
       "3  Female  Alabama   31   2/17/2019                  3       married   40423   \n",
       "4  Female  Alabama   31   2/17/2019                  3       married   40423   \n",
       "\n",
       "  region  \n",
       "0  South  \n",
       "1  South  \n",
       "2  South  \n",
       "3  South  \n",
       "4  South  "
      ]
     },
     "execution_count": 17,
     "metadata": {},
     "output_type": "execute_result"
    }
   ],
   "source": [
    "#Checking the dataframe to see the new column 'region'\n",
    "df_ords_prods_custs.head()"
   ]
  },
  {
   "cell_type": "code",
   "execution_count": 18,
   "id": "9c4c69f5",
   "metadata": {},
   "outputs": [
    {
     "data": {
      "text/plain": [
       "South        10791885\n",
       "West          8292913\n",
       "Midwest       7597325\n",
       "Northeast     5722736\n",
       "Name: region, dtype: int64"
      ]
     },
     "execution_count": 18,
     "metadata": {},
     "output_type": "execute_result"
    }
   ],
   "source": [
    "#Checking the value count of 'region'\n",
    "df_ords_prods_custs['region'].value_counts(dropna = False)"
   ]
  },
  {
   "cell_type": "code",
   "execution_count": 19,
   "id": "ad430a90",
   "metadata": {},
   "outputs": [
    {
     "data": {
      "text/plain": [
       "32404859"
      ]
     },
     "execution_count": 19,
     "metadata": {},
     "output_type": "execute_result"
    }
   ],
   "source": [
    "df_ords_prods_custs['region'].value_counts(dropna = False).sum()"
   ]
  },
  {
   "cell_type": "code",
   "execution_count": 20,
   "id": "94d58f58",
   "metadata": {},
   "outputs": [
    {
     "data": {
      "text/plain": [
       "(32404859, 31)"
      ]
     },
     "execution_count": 20,
     "metadata": {},
     "output_type": "execute_result"
    }
   ],
   "source": [
    "df_ords_prods_custs.shape"
   ]
  },
  {
   "cell_type": "markdown",
   "id": "a9f84526",
   "metadata": {},
   "source": [
    "#### The number of rows is the same which means that all rows in column 'region' have been populated"
   ]
  },
  {
   "cell_type": "code",
   "execution_count": 21,
   "id": "ef27ee9b",
   "metadata": {},
   "outputs": [],
   "source": [
    "#Downcasting the dataframe again\n",
    "for column in df_ords_prods_custs:\n",
    "    if df_ords_prods_custs[column].dtype == 'float64':\n",
    "        df_ords_prods_custs[column] = pd.to_numeric(df_ords_prods_custs[column], downcast = 'float')\n",
    "    if df_ords_prods_custs[column].dtype == 'int64':\n",
    "        df_ords_prods_custs[column] = pd.to_numeric(df_ords_prods_custs[column], downcast = 'integer')"
   ]
  },
  {
   "cell_type": "markdown",
   "id": "91129784",
   "metadata": {},
   "source": [
    "## 3.2 Determining differences in spending habits between the different U.S. regions"
   ]
  },
  {
   "cell_type": "code",
   "execution_count": 22,
   "id": "43a291dc",
   "metadata": {},
   "outputs": [],
   "source": [
    "#Creating a spending_habits crosstab\n",
    "crosstab_spending_habits = pd.crosstab (df_ords_prods_custs['spending_flag'], df_ords_prods_custs['region'], dropna = False)"
   ]
  },
  {
   "cell_type": "code",
   "execution_count": 23,
   "id": "63b59dca",
   "metadata": {},
   "outputs": [
    {
     "data": {
      "text/html": [
       "<div>\n",
       "<style scoped>\n",
       "    .dataframe tbody tr th:only-of-type {\n",
       "        vertical-align: middle;\n",
       "    }\n",
       "\n",
       "    .dataframe tbody tr th {\n",
       "        vertical-align: top;\n",
       "    }\n",
       "\n",
       "    .dataframe thead th {\n",
       "        text-align: right;\n",
       "    }\n",
       "</style>\n",
       "<table border=\"1\" class=\"dataframe\">\n",
       "  <thead>\n",
       "    <tr style=\"text-align: right;\">\n",
       "      <th>region</th>\n",
       "      <th>Midwest</th>\n",
       "      <th>Northeast</th>\n",
       "      <th>South</th>\n",
       "      <th>West</th>\n",
       "    </tr>\n",
       "    <tr>\n",
       "      <th>spending_flag</th>\n",
       "      <th></th>\n",
       "      <th></th>\n",
       "      <th></th>\n",
       "      <th></th>\n",
       "    </tr>\n",
       "  </thead>\n",
       "  <tbody>\n",
       "    <tr>\n",
       "      <th>High spender</th>\n",
       "      <td>155975</td>\n",
       "      <td>108225</td>\n",
       "      <td>209691</td>\n",
       "      <td>160354</td>\n",
       "    </tr>\n",
       "    <tr>\n",
       "      <th>Low spender</th>\n",
       "      <td>7441350</td>\n",
       "      <td>5614511</td>\n",
       "      <td>10582194</td>\n",
       "      <td>8132559</td>\n",
       "    </tr>\n",
       "  </tbody>\n",
       "</table>\n",
       "</div>"
      ],
      "text/plain": [
       "region         Midwest  Northeast     South     West\n",
       "spending_flag                                       \n",
       "High spender    155975     108225    209691   160354\n",
       "Low spender    7441350    5614511  10582194  8132559"
      ]
     },
     "execution_count": 23,
     "metadata": {},
     "output_type": "execute_result"
    }
   ],
   "source": [
    "#Checking the differences in spending habits between different U.S. regions\n",
    "crosstab_spending_habits"
   ]
  },
  {
   "cell_type": "markdown",
   "id": "6a0e9a1f",
   "metadata": {},
   "source": [
    "## 4 Create an exclusion flag for low-activity customers (customers with less than 5 orders) and exclude them from the data"
   ]
  },
  {
   "cell_type": "code",
   "execution_count": 24,
   "id": "d1f442d3",
   "metadata": {},
   "outputs": [],
   "source": [
    "#Creating the 'activity_flag'(exclusion_flag)\n",
    "df_ords_prods_custs.loc[df_ords_prods_custs['max_order'] < 5, 'activity_flag'] = 'low-activity'"
   ]
  },
  {
   "cell_type": "code",
   "execution_count": 25,
   "id": "4ea8e7f5",
   "metadata": {},
   "outputs": [],
   "source": [
    "df_ords_prods_custs.loc[df_ords_prods_custs['max_order'] >= 5, 'activity_flag'] = 'High activity'"
   ]
  },
  {
   "cell_type": "code",
   "execution_count": 26,
   "id": "a1d82ebf",
   "metadata": {},
   "outputs": [
    {
     "data": {
      "text/html": [
       "<div>\n",
       "<style scoped>\n",
       "    .dataframe tbody tr th:only-of-type {\n",
       "        vertical-align: middle;\n",
       "    }\n",
       "\n",
       "    .dataframe tbody tr th {\n",
       "        vertical-align: top;\n",
       "    }\n",
       "\n",
       "    .dataframe thead th {\n",
       "        text-align: right;\n",
       "    }\n",
       "</style>\n",
       "<table border=\"1\" class=\"dataframe\">\n",
       "  <thead>\n",
       "    <tr style=\"text-align: right;\">\n",
       "      <th></th>\n",
       "      <th>order_id</th>\n",
       "      <th>user_id</th>\n",
       "      <th>order_number</th>\n",
       "      <th>order_day_of_week</th>\n",
       "      <th>order_hour_of_day</th>\n",
       "      <th>days_since_prior_order</th>\n",
       "      <th>product_id</th>\n",
       "      <th>add_to_cart_order</th>\n",
       "      <th>reordered</th>\n",
       "      <th>product_name</th>\n",
       "      <th>aisle_id</th>\n",
       "      <th>department_id</th>\n",
       "      <th>prices</th>\n",
       "      <th>price_range_loc</th>\n",
       "      <th>busiest_day</th>\n",
       "      <th>busiest_days</th>\n",
       "      <th>busiest_period_of_day</th>\n",
       "      <th>max_order</th>\n",
       "      <th>loyalty_flag</th>\n",
       "      <th>avg_price</th>\n",
       "      <th>spending_flag</th>\n",
       "      <th>median_freq</th>\n",
       "      <th>order_freq_flag</th>\n",
       "      <th>gender</th>\n",
       "      <th>state</th>\n",
       "      <th>age</th>\n",
       "      <th>date_joined</th>\n",
       "      <th>number_dependants</th>\n",
       "      <th>family_status</th>\n",
       "      <th>income</th>\n",
       "      <th>region</th>\n",
       "      <th>activity_flag</th>\n",
       "    </tr>\n",
       "  </thead>\n",
       "  <tbody>\n",
       "    <tr>\n",
       "      <th>0</th>\n",
       "      <td>2539329</td>\n",
       "      <td>1</td>\n",
       "      <td>1</td>\n",
       "      <td>2</td>\n",
       "      <td>8</td>\n",
       "      <td>NaN</td>\n",
       "      <td>196</td>\n",
       "      <td>1</td>\n",
       "      <td>0</td>\n",
       "      <td>Soda</td>\n",
       "      <td>77</td>\n",
       "      <td>7</td>\n",
       "      <td>9.0</td>\n",
       "      <td>Mid-range product</td>\n",
       "      <td>Regularly busy</td>\n",
       "      <td>Regularly busy</td>\n",
       "      <td>Average orders</td>\n",
       "      <td>10</td>\n",
       "      <td>New customer</td>\n",
       "      <td>6.367796</td>\n",
       "      <td>Low spender</td>\n",
       "      <td>20.5</td>\n",
       "      <td>Non-frequent customer</td>\n",
       "      <td>Female</td>\n",
       "      <td>Alabama</td>\n",
       "      <td>31</td>\n",
       "      <td>2/17/2019</td>\n",
       "      <td>3</td>\n",
       "      <td>married</td>\n",
       "      <td>40423</td>\n",
       "      <td>South</td>\n",
       "      <td>High activity</td>\n",
       "    </tr>\n",
       "    <tr>\n",
       "      <th>1</th>\n",
       "      <td>2398795</td>\n",
       "      <td>1</td>\n",
       "      <td>2</td>\n",
       "      <td>3</td>\n",
       "      <td>7</td>\n",
       "      <td>15.0</td>\n",
       "      <td>196</td>\n",
       "      <td>1</td>\n",
       "      <td>1</td>\n",
       "      <td>Soda</td>\n",
       "      <td>77</td>\n",
       "      <td>7</td>\n",
       "      <td>9.0</td>\n",
       "      <td>Mid-range product</td>\n",
       "      <td>Regularly busy</td>\n",
       "      <td>Slowest days</td>\n",
       "      <td>Average orders</td>\n",
       "      <td>10</td>\n",
       "      <td>New customer</td>\n",
       "      <td>6.367796</td>\n",
       "      <td>Low spender</td>\n",
       "      <td>20.5</td>\n",
       "      <td>Non-frequent customer</td>\n",
       "      <td>Female</td>\n",
       "      <td>Alabama</td>\n",
       "      <td>31</td>\n",
       "      <td>2/17/2019</td>\n",
       "      <td>3</td>\n",
       "      <td>married</td>\n",
       "      <td>40423</td>\n",
       "      <td>South</td>\n",
       "      <td>High activity</td>\n",
       "    </tr>\n",
       "    <tr>\n",
       "      <th>2</th>\n",
       "      <td>473747</td>\n",
       "      <td>1</td>\n",
       "      <td>3</td>\n",
       "      <td>3</td>\n",
       "      <td>12</td>\n",
       "      <td>21.0</td>\n",
       "      <td>196</td>\n",
       "      <td>1</td>\n",
       "      <td>1</td>\n",
       "      <td>Soda</td>\n",
       "      <td>77</td>\n",
       "      <td>7</td>\n",
       "      <td>9.0</td>\n",
       "      <td>Mid-range product</td>\n",
       "      <td>Regularly busy</td>\n",
       "      <td>Slowest days</td>\n",
       "      <td>Most orders</td>\n",
       "      <td>10</td>\n",
       "      <td>New customer</td>\n",
       "      <td>6.367796</td>\n",
       "      <td>Low spender</td>\n",
       "      <td>20.5</td>\n",
       "      <td>Non-frequent customer</td>\n",
       "      <td>Female</td>\n",
       "      <td>Alabama</td>\n",
       "      <td>31</td>\n",
       "      <td>2/17/2019</td>\n",
       "      <td>3</td>\n",
       "      <td>married</td>\n",
       "      <td>40423</td>\n",
       "      <td>South</td>\n",
       "      <td>High activity</td>\n",
       "    </tr>\n",
       "    <tr>\n",
       "      <th>3</th>\n",
       "      <td>2254736</td>\n",
       "      <td>1</td>\n",
       "      <td>4</td>\n",
       "      <td>4</td>\n",
       "      <td>7</td>\n",
       "      <td>29.0</td>\n",
       "      <td>196</td>\n",
       "      <td>1</td>\n",
       "      <td>1</td>\n",
       "      <td>Soda</td>\n",
       "      <td>77</td>\n",
       "      <td>7</td>\n",
       "      <td>9.0</td>\n",
       "      <td>Mid-range product</td>\n",
       "      <td>Least busy</td>\n",
       "      <td>Slowest days</td>\n",
       "      <td>Average orders</td>\n",
       "      <td>10</td>\n",
       "      <td>New customer</td>\n",
       "      <td>6.367796</td>\n",
       "      <td>Low spender</td>\n",
       "      <td>20.5</td>\n",
       "      <td>Non-frequent customer</td>\n",
       "      <td>Female</td>\n",
       "      <td>Alabama</td>\n",
       "      <td>31</td>\n",
       "      <td>2/17/2019</td>\n",
       "      <td>3</td>\n",
       "      <td>married</td>\n",
       "      <td>40423</td>\n",
       "      <td>South</td>\n",
       "      <td>High activity</td>\n",
       "    </tr>\n",
       "    <tr>\n",
       "      <th>4</th>\n",
       "      <td>431534</td>\n",
       "      <td>1</td>\n",
       "      <td>5</td>\n",
       "      <td>4</td>\n",
       "      <td>15</td>\n",
       "      <td>28.0</td>\n",
       "      <td>196</td>\n",
       "      <td>1</td>\n",
       "      <td>1</td>\n",
       "      <td>Soda</td>\n",
       "      <td>77</td>\n",
       "      <td>7</td>\n",
       "      <td>9.0</td>\n",
       "      <td>Mid-range product</td>\n",
       "      <td>Least busy</td>\n",
       "      <td>Slowest days</td>\n",
       "      <td>Most orders</td>\n",
       "      <td>10</td>\n",
       "      <td>New customer</td>\n",
       "      <td>6.367796</td>\n",
       "      <td>Low spender</td>\n",
       "      <td>20.5</td>\n",
       "      <td>Non-frequent customer</td>\n",
       "      <td>Female</td>\n",
       "      <td>Alabama</td>\n",
       "      <td>31</td>\n",
       "      <td>2/17/2019</td>\n",
       "      <td>3</td>\n",
       "      <td>married</td>\n",
       "      <td>40423</td>\n",
       "      <td>South</td>\n",
       "      <td>High activity</td>\n",
       "    </tr>\n",
       "  </tbody>\n",
       "</table>\n",
       "</div>"
      ],
      "text/plain": [
       "   order_id user_id  order_number  order_day_of_week  order_hour_of_day  \\\n",
       "0   2539329       1             1                  2                  8   \n",
       "1   2398795       1             2                  3                  7   \n",
       "2    473747       1             3                  3                 12   \n",
       "3   2254736       1             4                  4                  7   \n",
       "4    431534       1             5                  4                 15   \n",
       "\n",
       "   days_since_prior_order  product_id  add_to_cart_order  reordered  \\\n",
       "0                     NaN         196                  1          0   \n",
       "1                    15.0         196                  1          1   \n",
       "2                    21.0         196                  1          1   \n",
       "3                    29.0         196                  1          1   \n",
       "4                    28.0         196                  1          1   \n",
       "\n",
       "  product_name  aisle_id  department_id  prices    price_range_loc  \\\n",
       "0         Soda        77              7     9.0  Mid-range product   \n",
       "1         Soda        77              7     9.0  Mid-range product   \n",
       "2         Soda        77              7     9.0  Mid-range product   \n",
       "3         Soda        77              7     9.0  Mid-range product   \n",
       "4         Soda        77              7     9.0  Mid-range product   \n",
       "\n",
       "      busiest_day    busiest_days busiest_period_of_day  max_order  \\\n",
       "0  Regularly busy  Regularly busy        Average orders         10   \n",
       "1  Regularly busy    Slowest days        Average orders         10   \n",
       "2  Regularly busy    Slowest days           Most orders         10   \n",
       "3      Least busy    Slowest days        Average orders         10   \n",
       "4      Least busy    Slowest days           Most orders         10   \n",
       "\n",
       "   loyalty_flag  avg_price spending_flag  median_freq        order_freq_flag  \\\n",
       "0  New customer   6.367796   Low spender         20.5  Non-frequent customer   \n",
       "1  New customer   6.367796   Low spender         20.5  Non-frequent customer   \n",
       "2  New customer   6.367796   Low spender         20.5  Non-frequent customer   \n",
       "3  New customer   6.367796   Low spender         20.5  Non-frequent customer   \n",
       "4  New customer   6.367796   Low spender         20.5  Non-frequent customer   \n",
       "\n",
       "   gender    state  age date_joined  number_dependants family_status  income  \\\n",
       "0  Female  Alabama   31   2/17/2019                  3       married   40423   \n",
       "1  Female  Alabama   31   2/17/2019                  3       married   40423   \n",
       "2  Female  Alabama   31   2/17/2019                  3       married   40423   \n",
       "3  Female  Alabama   31   2/17/2019                  3       married   40423   \n",
       "4  Female  Alabama   31   2/17/2019                  3       married   40423   \n",
       "\n",
       "  region  activity_flag  \n",
       "0  South  High activity  \n",
       "1  South  High activity  \n",
       "2  South  High activity  \n",
       "3  South  High activity  \n",
       "4  South  High activity  "
      ]
     },
     "execution_count": 26,
     "metadata": {},
     "output_type": "execute_result"
    }
   ],
   "source": [
    "df_ords_prods_custs.head()"
   ]
  },
  {
   "cell_type": "code",
   "execution_count": 27,
   "id": "af52cc7c",
   "metadata": {},
   "outputs": [
    {
     "data": {
      "text/plain": [
       "32404859"
      ]
     },
     "execution_count": 27,
     "metadata": {},
     "output_type": "execute_result"
    }
   ],
   "source": [
    "#Checking if the value count of 'activity_flag' equals to total number of rows\n",
    "df_ords_prods_custs['activity_flag'].value_counts(dropna = False).sum()"
   ]
  },
  {
   "cell_type": "code",
   "execution_count": 28,
   "id": "13ca8fbf",
   "metadata": {},
   "outputs": [],
   "source": [
    "#Downcasting the dataframe again\n",
    "for column in df_ords_prods_custs:\n",
    "    if df_ords_prods_custs[column].dtype == 'float64':\n",
    "        df_ords_prods_custs[column] = pd.to_numeric(df_ords_prods_custs[column], downcast = 'float')\n",
    "    if df_ords_prods_custs[column].dtype == 'int64':\n",
    "        df_ords_prods_custs[column] = pd.to_numeric(df_ords_prods_custs[column], downcast = 'integer')"
   ]
  },
  {
   "cell_type": "code",
   "execution_count": 29,
   "id": "6092e12e",
   "metadata": {},
   "outputs": [],
   "source": [
    "#Creating a subset with only 'High activity' customers\n",
    "high_activity_custs = df_ords_prods_custs[df_ords_prods_custs['activity_flag'] == 'High activity']"
   ]
  },
  {
   "cell_type": "code",
   "execution_count": 30,
   "id": "13bccb0a",
   "metadata": {},
   "outputs": [
    {
     "data": {
      "text/plain": [
       "(30964564, 32)"
      ]
     },
     "execution_count": 30,
     "metadata": {},
     "output_type": "execute_result"
    }
   ],
   "source": [
    "high_activity_custs.shape"
   ]
  },
  {
   "cell_type": "markdown",
   "id": "5f638f88",
   "metadata": {},
   "source": [
    "#### Subset will be exported at the end."
   ]
  },
  {
   "cell_type": "code",
   "execution_count": 30,
   "id": "8b3a1783",
   "metadata": {},
   "outputs": [],
   "source": [
    "#Creating a subset with only 'Low activity' customers\n",
    "low_activity_custs = df_ords_prods_custs[df_ords_prods_custs['activity_flag'] == 'Low activity']"
   ]
  },
  {
   "cell_type": "markdown",
   "id": "b159aed0",
   "metadata": {},
   "source": [
    "## 5 Create a profiling variable based on age, income, certain goods in the “department_id” column, and number of dependants"
   ]
  },
  {
   "cell_type": "markdown",
   "id": "2fa6f5f3",
   "metadata": {},
   "source": [
    "### 5.1 Profiling based on age"
   ]
  },
  {
   "cell_type": "code",
   "execution_count": 31,
   "id": "f067ba3b",
   "metadata": {},
   "outputs": [
    {
     "data": {
      "text/plain": [
       "count    3.096456e+07\n",
       "mean     4.946803e+01\n",
       "std      1.848528e+01\n",
       "min      1.800000e+01\n",
       "25%      3.300000e+01\n",
       "50%      4.900000e+01\n",
       "75%      6.500000e+01\n",
       "max      8.100000e+01\n",
       "Name: age, dtype: float64"
      ]
     },
     "execution_count": 31,
     "metadata": {},
     "output_type": "execute_result"
    }
   ],
   "source": [
    "#Checking the descriptive statistics of 'age' column\n",
    "high_activity_custs['age'].describe()"
   ]
  },
  {
   "cell_type": "code",
   "execution_count": 32,
   "id": "a9fbf050",
   "metadata": {},
   "outputs": [],
   "source": [
    "#Calculating the age percentiles\n",
    "quartile_age = list(high_activity_custs['age'].quantile([0.25, 0.5, 0.75]))"
   ]
  },
  {
   "cell_type": "code",
   "execution_count": 33,
   "id": "1bf3d145",
   "metadata": {},
   "outputs": [
    {
     "data": {
      "text/plain": [
       "[33.0, 49.0, 65.0]"
      ]
     },
     "execution_count": 33,
     "metadata": {},
     "output_type": "execute_result"
    }
   ],
   "source": [
    "quartile_age"
   ]
  },
  {
   "cell_type": "markdown",
   "id": "e5c3d97f",
   "metadata": {},
   "source": [
    "#### Minimum age is 18, Maximum age is 81.\n",
    "#### Based on the quartiles, I decided to divide the customer base into 3 groups: 1. Young Adult (18-33), 2. Middle Aged (34-65), 3. Senior (65+)"
   ]
  },
  {
   "cell_type": "code",
   "execution_count": 34,
   "id": "c9a35d1f",
   "metadata": {},
   "outputs": [
    {
     "name": "stderr",
     "output_type": "stream",
     "text": [
      "C:\\Users\\Longus\\AppData\\Local\\Temp\\ipykernel_6360\\3938736861.py:2: SettingWithCopyWarning: \n",
      "A value is trying to be set on a copy of a slice from a DataFrame.\n",
      "Try using .loc[row_indexer,col_indexer] = value instead\n",
      "\n",
      "See the caveats in the documentation: https://pandas.pydata.org/pandas-docs/stable/user_guide/indexing.html#returning-a-view-versus-a-copy\n",
      "  high_activity_custs.loc[(high_activity_custs['age'] >= 18) & (high_activity_custs['age'] < 34), 'age_category'] = 'Young Adult'\n"
     ]
    }
   ],
   "source": [
    "#Creating the 'age_category' column\n",
    "high_activity_custs.loc[(high_activity_custs['age'] >= 18) & (high_activity_custs['age'] < 34), 'age_category'] = 'Young Adult'"
   ]
  },
  {
   "cell_type": "code",
   "execution_count": 35,
   "id": "1df47b4c",
   "metadata": {},
   "outputs": [],
   "source": [
    "high_activity_custs.loc[(high_activity_custs['age'] >= 34) & (high_activity_custs['age'] < 65), 'age_category'] = 'Middle Aged'"
   ]
  },
  {
   "cell_type": "code",
   "execution_count": 36,
   "id": "1150b0dc",
   "metadata": {},
   "outputs": [],
   "source": [
    "high_activity_custs.loc[(high_activity_custs['age'] >= 65), 'age_category'] = 'Senior'"
   ]
  },
  {
   "cell_type": "code",
   "execution_count": 37,
   "id": "016308d6",
   "metadata": {},
   "outputs": [
    {
     "data": {
      "text/plain": [
       "Middle Aged    15011555\n",
       "Senior          8195544\n",
       "Young Adult     7757465\n",
       "Name: age_category, dtype: int64"
      ]
     },
     "execution_count": 37,
     "metadata": {},
     "output_type": "execute_result"
    }
   ],
   "source": [
    "#Checkng count of values of 'age_category'\n",
    "high_activity_custs['age_category'].value_counts(dropna = False)"
   ]
  },
  {
   "cell_type": "code",
   "execution_count": 38,
   "id": "49f6005c",
   "metadata": {},
   "outputs": [
    {
     "data": {
      "text/plain": [
       "30964564"
      ]
     },
     "execution_count": 38,
     "metadata": {},
     "output_type": "execute_result"
    }
   ],
   "source": [
    "high_activity_custs['age_category'].value_counts(dropna = False).sum()"
   ]
  },
  {
   "cell_type": "code",
   "execution_count": 39,
   "id": "dd94a9b0",
   "metadata": {},
   "outputs": [
    {
     "data": {
      "text/plain": [
       "(30964564, 33)"
      ]
     },
     "execution_count": 39,
     "metadata": {},
     "output_type": "execute_result"
    }
   ],
   "source": [
    "high_activity_custs.shape"
   ]
  },
  {
   "cell_type": "markdown",
   "id": "b22d11ef",
   "metadata": {},
   "source": [
    "#### All rows have been populated"
   ]
  },
  {
   "cell_type": "markdown",
   "id": "622d3aee",
   "metadata": {},
   "source": [
    "### 5.2 Profiling based on income"
   ]
  },
  {
   "cell_type": "code",
   "execution_count": 40,
   "id": "ed8deba2",
   "metadata": {},
   "outputs": [
    {
     "data": {
      "text/plain": [
       "count    3.096456e+07\n",
       "mean     9.967587e+04\n",
       "std      4.314187e+04\n",
       "min      2.590300e+04\n",
       "25%      6.729200e+04\n",
       "50%      9.676500e+04\n",
       "75%      1.281020e+05\n",
       "max      5.939010e+05\n",
       "Name: income, dtype: float64"
      ]
     },
     "execution_count": 40,
     "metadata": {},
     "output_type": "execute_result"
    }
   ],
   "source": [
    "#Checking the descriptive statistics of 'income' column\n",
    "high_activity_custs['income'].describe()"
   ]
  },
  {
   "cell_type": "code",
   "execution_count": 41,
   "id": "0d16ec70",
   "metadata": {},
   "outputs": [],
   "source": [
    "#Calculating the income percentiles\n",
    "quartile_income = list(high_activity_custs['income'].quantile([0.25, 0.5, 0.75]))"
   ]
  },
  {
   "cell_type": "code",
   "execution_count": 42,
   "id": "c2189d5a",
   "metadata": {},
   "outputs": [
    {
     "data": {
      "text/plain": [
       "[67292.0, 96765.0, 128102.0]"
      ]
     },
     "execution_count": 42,
     "metadata": {},
     "output_type": "execute_result"
    }
   ],
   "source": [
    "quartile_income"
   ]
  },
  {
   "cell_type": "markdown",
   "id": "acc72d2c",
   "metadata": {},
   "source": [
    "#### Minimum income is 25903, Maximum is 593901. \n",
    "#### Based on the quartiles, I have divided the customer base into three groups: 1. Low Income (<67292), Middle Income (67293-128102), 3. High Income (>128102)"
   ]
  },
  {
   "cell_type": "code",
   "execution_count": 43,
   "id": "bbbf2582",
   "metadata": {},
   "outputs": [
    {
     "name": "stderr",
     "output_type": "stream",
     "text": [
      "C:\\Users\\Longus\\AppData\\Local\\Temp\\ipykernel_6360\\1733394237.py:2: SettingWithCopyWarning: \n",
      "A value is trying to be set on a copy of a slice from a DataFrame.\n",
      "Try using .loc[row_indexer,col_indexer] = value instead\n",
      "\n",
      "See the caveats in the documentation: https://pandas.pydata.org/pandas-docs/stable/user_guide/indexing.html#returning-a-view-versus-a-copy\n",
      "  high_activity_custs.loc[(high_activity_custs['income'] <= 67292), 'income_category'] = 'Low Income'\n"
     ]
    }
   ],
   "source": [
    "#Creating the 'income_category' column\n",
    "high_activity_custs.loc[(high_activity_custs['income'] <= 67292), 'income_category'] = 'Low Income'"
   ]
  },
  {
   "cell_type": "code",
   "execution_count": 44,
   "id": "635d7e37",
   "metadata": {},
   "outputs": [],
   "source": [
    "high_activity_custs.loc[(high_activity_custs['income'] > 67292) & (high_activity_custs['income'] <= 128102), 'income_category'] = 'Middle Income'"
   ]
  },
  {
   "cell_type": "code",
   "execution_count": 45,
   "id": "ea19825c",
   "metadata": {},
   "outputs": [],
   "source": [
    "high_activity_custs.loc[(high_activity_custs['income'] > 128102), 'income_category'] = 'High Income'"
   ]
  },
  {
   "cell_type": "code",
   "execution_count": 46,
   "id": "3c69d183",
   "metadata": {},
   "outputs": [
    {
     "data": {
      "text/plain": [
       "Middle Income    15482125\n",
       "Low Income        7741348\n",
       "High Income       7741091\n",
       "Name: income_category, dtype: int64"
      ]
     },
     "execution_count": 46,
     "metadata": {},
     "output_type": "execute_result"
    }
   ],
   "source": [
    "#Checking count of values of 'income_category'\n",
    "high_activity_custs['income_category'].value_counts(dropna = False)"
   ]
  },
  {
   "cell_type": "code",
   "execution_count": 47,
   "id": "b7885bd9",
   "metadata": {},
   "outputs": [
    {
     "data": {
      "text/plain": [
       "30964564"
      ]
     },
     "execution_count": 47,
     "metadata": {},
     "output_type": "execute_result"
    }
   ],
   "source": [
    "high_activity_custs['income_category'].value_counts(dropna = False).sum()"
   ]
  },
  {
   "cell_type": "code",
   "execution_count": 48,
   "id": "a228596b",
   "metadata": {},
   "outputs": [
    {
     "data": {
      "text/plain": [
       "(30964564, 34)"
      ]
     },
     "execution_count": 48,
     "metadata": {},
     "output_type": "execute_result"
    }
   ],
   "source": [
    "high_activity_custs.shape"
   ]
  },
  {
   "cell_type": "markdown",
   "id": "cf7cb9a8",
   "metadata": {},
   "source": [
    "#### All rows have been populated"
   ]
  },
  {
   "cell_type": "markdown",
   "id": "83b4af67",
   "metadata": {},
   "source": [
    "### 5.3 Profiling based on number of dependents nad family status"
   ]
  },
  {
   "cell_type": "code",
   "execution_count": 49,
   "id": "49f29080",
   "metadata": {},
   "outputs": [
    {
     "data": {
      "text/plain": [
       "count    3.096456e+07\n",
       "mean     1.501819e+00\n",
       "std      1.118896e+00\n",
       "min      0.000000e+00\n",
       "25%      1.000000e+00\n",
       "50%      2.000000e+00\n",
       "75%      3.000000e+00\n",
       "max      3.000000e+00\n",
       "Name: number_dependants, dtype: float64"
      ]
     },
     "execution_count": 49,
     "metadata": {},
     "output_type": "execute_result"
    }
   ],
   "source": [
    "#Checking the descriptive statistics of 'number_dependants' column\n",
    "high_activity_custs['number_dependants'].describe()"
   ]
  },
  {
   "cell_type": "code",
   "execution_count": 50,
   "id": "2e2d1893",
   "metadata": {},
   "outputs": [],
   "source": [
    "#Creating a crosstab to see connection of 'family_status' with 'number_dependants'\n",
    "family_crosstab = pd.crosstab(high_activity_custs['family_status'],high_activity_custs['number_dependants'],dropna = False)"
   ]
  },
  {
   "cell_type": "code",
   "execution_count": 51,
   "id": "d4f9540f",
   "metadata": {},
   "outputs": [
    {
     "data": {
      "text/html": [
       "<div>\n",
       "<style scoped>\n",
       "    .dataframe tbody tr th:only-of-type {\n",
       "        vertical-align: middle;\n",
       "    }\n",
       "\n",
       "    .dataframe tbody tr th {\n",
       "        vertical-align: top;\n",
       "    }\n",
       "\n",
       "    .dataframe thead th {\n",
       "        text-align: right;\n",
       "    }\n",
       "</style>\n",
       "<table border=\"1\" class=\"dataframe\">\n",
       "  <thead>\n",
       "    <tr style=\"text-align: right;\">\n",
       "      <th>number_dependants</th>\n",
       "      <th>0</th>\n",
       "      <th>1</th>\n",
       "      <th>2</th>\n",
       "      <th>3</th>\n",
       "    </tr>\n",
       "    <tr>\n",
       "      <th>family_status</th>\n",
       "      <th></th>\n",
       "      <th></th>\n",
       "      <th></th>\n",
       "      <th></th>\n",
       "    </tr>\n",
       "  </thead>\n",
       "  <tbody>\n",
       "    <tr>\n",
       "      <th>divorced/widowed</th>\n",
       "      <td>2645271</td>\n",
       "      <td>0</td>\n",
       "      <td>0</td>\n",
       "      <td>0</td>\n",
       "    </tr>\n",
       "    <tr>\n",
       "      <th>living with parents and siblings</th>\n",
       "      <td>0</td>\n",
       "      <td>508045</td>\n",
       "      <td>484658</td>\n",
       "      <td>488469</td>\n",
       "    </tr>\n",
       "    <tr>\n",
       "      <th>married</th>\n",
       "      <td>0</td>\n",
       "      <td>7211061</td>\n",
       "      <td>7248603</td>\n",
       "      <td>7284047</td>\n",
       "    </tr>\n",
       "    <tr>\n",
       "      <th>single</th>\n",
       "      <td>5094410</td>\n",
       "      <td>0</td>\n",
       "      <td>0</td>\n",
       "      <td>0</td>\n",
       "    </tr>\n",
       "  </tbody>\n",
       "</table>\n",
       "</div>"
      ],
      "text/plain": [
       "number_dependants                       0        1        2        3\n",
       "family_status                                                       \n",
       "divorced/widowed                  2645271        0        0        0\n",
       "living with parents and siblings        0   508045   484658   488469\n",
       "married                                 0  7211061  7248603  7284047\n",
       "single                            5094410        0        0        0"
      ]
     },
     "execution_count": 51,
     "metadata": {},
     "output_type": "execute_result"
    }
   ],
   "source": [
    "family_crosstab"
   ]
  },
  {
   "cell_type": "code",
   "execution_count": 52,
   "id": "e9f131e7",
   "metadata": {},
   "outputs": [
    {
     "name": "stderr",
     "output_type": "stream",
     "text": [
      "C:\\Users\\Longus\\AppData\\Local\\Temp\\ipykernel_6360\\3845217152.py:1: SettingWithCopyWarning: \n",
      "A value is trying to be set on a copy of a slice from a DataFrame.\n",
      "Try using .loc[row_indexer,col_indexer] = value instead\n",
      "\n",
      "See the caveats in the documentation: https://pandas.pydata.org/pandas-docs/stable/user_guide/indexing.html#returning-a-view-versus-a-copy\n",
      "  high_activity_custs.loc[(high_activity_custs['family_status'] == 'married') & (high_activity_custs['number_dependants'] == 1), 'household'] = 'Couple without child'\n"
     ]
    }
   ],
   "source": [
    "high_activity_custs.loc[(high_activity_custs['family_status'] == 'married') & (high_activity_custs['number_dependants'] == 1), 'household'] = 'Couple without child'"
   ]
  },
  {
   "cell_type": "code",
   "execution_count": 53,
   "id": "695305ce",
   "metadata": {},
   "outputs": [],
   "source": [
    "high_activity_custs.loc[(high_activity_custs['family_status'] == 'married') & (high_activity_custs['number_dependants'].isin([2,3])), 'household'] = 'Couple with children'"
   ]
  },
  {
   "cell_type": "code",
   "execution_count": 54,
   "id": "9cbc08f4",
   "metadata": {},
   "outputs": [],
   "source": [
    "high_activity_custs.loc[(high_activity_custs['family_status'] == 'divorced/widowed'), 'household'] = 'Single Person Household'"
   ]
  },
  {
   "cell_type": "code",
   "execution_count": 55,
   "id": "99d3e19e",
   "metadata": {},
   "outputs": [],
   "source": [
    "high_activity_custs.loc[(high_activity_custs['family_status'] == 'single'), 'household'] = 'Single Person Household'"
   ]
  },
  {
   "cell_type": "code",
   "execution_count": 56,
   "id": "1c3566dd",
   "metadata": {},
   "outputs": [],
   "source": [
    "high_activity_custs.loc[(high_activity_custs['family_status'] == 'living with parents and siblings'), 'household'] = 'Other household'"
   ]
  },
  {
   "cell_type": "code",
   "execution_count": 57,
   "id": "6d558c68",
   "metadata": {},
   "outputs": [
    {
     "data": {
      "text/plain": [
       "Couple with children       14532650\n",
       "Single Person Household     7739681\n",
       "Couple without child        7211061\n",
       "Other household             1481172\n",
       "Name: household, dtype: int64"
      ]
     },
     "execution_count": 57,
     "metadata": {},
     "output_type": "execute_result"
    }
   ],
   "source": [
    "#Checking count of values of 'household'\n",
    "high_activity_custs['household'].value_counts(dropna = False)"
   ]
  },
  {
   "cell_type": "code",
   "execution_count": 58,
   "id": "a7692b8b",
   "metadata": {},
   "outputs": [
    {
     "data": {
      "text/plain": [
       "30964564"
      ]
     },
     "execution_count": 58,
     "metadata": {},
     "output_type": "execute_result"
    }
   ],
   "source": [
    "high_activity_custs['household'].value_counts(dropna = False).sum()"
   ]
  },
  {
   "cell_type": "code",
   "execution_count": 59,
   "id": "d3cec033",
   "metadata": {},
   "outputs": [
    {
     "data": {
      "text/plain": [
       "(30964564, 35)"
      ]
     },
     "execution_count": 59,
     "metadata": {},
     "output_type": "execute_result"
    }
   ],
   "source": [
    "high_activity_custs.shape"
   ]
  },
  {
   "cell_type": "markdown",
   "id": "42ff30ee",
   "metadata": {},
   "source": [
    "### 5.4 Profiling based on department"
   ]
  },
  {
   "cell_type": "code",
   "execution_count": 60,
   "id": "b23322da",
   "metadata": {},
   "outputs": [
    {
     "data": {
      "text/html": [
       "<div>\n",
       "<style scoped>\n",
       "    .dataframe tbody tr th:only-of-type {\n",
       "        vertical-align: middle;\n",
       "    }\n",
       "\n",
       "    .dataframe tbody tr th {\n",
       "        vertical-align: top;\n",
       "    }\n",
       "\n",
       "    .dataframe thead th {\n",
       "        text-align: right;\n",
       "    }\n",
       "</style>\n",
       "<table border=\"1\" class=\"dataframe\">\n",
       "  <thead>\n",
       "    <tr style=\"text-align: right;\">\n",
       "      <th></th>\n",
       "      <th>Unnamed: 0</th>\n",
       "      <th>department</th>\n",
       "    </tr>\n",
       "  </thead>\n",
       "  <tbody>\n",
       "    <tr>\n",
       "      <th>0</th>\n",
       "      <td>1</td>\n",
       "      <td>frozen</td>\n",
       "    </tr>\n",
       "    <tr>\n",
       "      <th>1</th>\n",
       "      <td>2</td>\n",
       "      <td>other</td>\n",
       "    </tr>\n",
       "    <tr>\n",
       "      <th>2</th>\n",
       "      <td>3</td>\n",
       "      <td>bakery</td>\n",
       "    </tr>\n",
       "    <tr>\n",
       "      <th>3</th>\n",
       "      <td>4</td>\n",
       "      <td>produce</td>\n",
       "    </tr>\n",
       "    <tr>\n",
       "      <th>4</th>\n",
       "      <td>5</td>\n",
       "      <td>alcohol</td>\n",
       "    </tr>\n",
       "    <tr>\n",
       "      <th>5</th>\n",
       "      <td>6</td>\n",
       "      <td>international</td>\n",
       "    </tr>\n",
       "    <tr>\n",
       "      <th>6</th>\n",
       "      <td>7</td>\n",
       "      <td>beverages</td>\n",
       "    </tr>\n",
       "    <tr>\n",
       "      <th>7</th>\n",
       "      <td>8</td>\n",
       "      <td>pets</td>\n",
       "    </tr>\n",
       "    <tr>\n",
       "      <th>8</th>\n",
       "      <td>9</td>\n",
       "      <td>dry goods pasta</td>\n",
       "    </tr>\n",
       "    <tr>\n",
       "      <th>9</th>\n",
       "      <td>10</td>\n",
       "      <td>bulk</td>\n",
       "    </tr>\n",
       "    <tr>\n",
       "      <th>10</th>\n",
       "      <td>11</td>\n",
       "      <td>personal care</td>\n",
       "    </tr>\n",
       "    <tr>\n",
       "      <th>11</th>\n",
       "      <td>12</td>\n",
       "      <td>meat seafood</td>\n",
       "    </tr>\n",
       "    <tr>\n",
       "      <th>12</th>\n",
       "      <td>13</td>\n",
       "      <td>pantry</td>\n",
       "    </tr>\n",
       "    <tr>\n",
       "      <th>13</th>\n",
       "      <td>14</td>\n",
       "      <td>breakfast</td>\n",
       "    </tr>\n",
       "    <tr>\n",
       "      <th>14</th>\n",
       "      <td>15</td>\n",
       "      <td>canned goods</td>\n",
       "    </tr>\n",
       "    <tr>\n",
       "      <th>15</th>\n",
       "      <td>16</td>\n",
       "      <td>dairy eggs</td>\n",
       "    </tr>\n",
       "    <tr>\n",
       "      <th>16</th>\n",
       "      <td>17</td>\n",
       "      <td>household</td>\n",
       "    </tr>\n",
       "    <tr>\n",
       "      <th>17</th>\n",
       "      <td>18</td>\n",
       "      <td>babies</td>\n",
       "    </tr>\n",
       "    <tr>\n",
       "      <th>18</th>\n",
       "      <td>19</td>\n",
       "      <td>snacks</td>\n",
       "    </tr>\n",
       "    <tr>\n",
       "      <th>19</th>\n",
       "      <td>20</td>\n",
       "      <td>deli</td>\n",
       "    </tr>\n",
       "    <tr>\n",
       "      <th>20</th>\n",
       "      <td>21</td>\n",
       "      <td>missing</td>\n",
       "    </tr>\n",
       "  </tbody>\n",
       "</table>\n",
       "</div>"
      ],
      "text/plain": [
       "    Unnamed: 0       department\n",
       "0            1           frozen\n",
       "1            2            other\n",
       "2            3           bakery\n",
       "3            4          produce\n",
       "4            5          alcohol\n",
       "5            6    international\n",
       "6            7        beverages\n",
       "7            8             pets\n",
       "8            9  dry goods pasta\n",
       "9           10             bulk\n",
       "10          11    personal care\n",
       "11          12     meat seafood\n",
       "12          13           pantry\n",
       "13          14        breakfast\n",
       "14          15     canned goods\n",
       "15          16       dairy eggs\n",
       "16          17        household\n",
       "17          18           babies\n",
       "18          19           snacks\n",
       "19          20             deli\n",
       "20          21          missing"
      ]
     },
     "execution_count": 60,
     "metadata": {},
     "output_type": "execute_result"
    }
   ],
   "source": [
    "df_departments"
   ]
  },
  {
   "cell_type": "code",
   "execution_count": 61,
   "id": "e66ec446",
   "metadata": {},
   "outputs": [],
   "source": [
    "#Renaming 'Unnamed: 0' to 'department_id'\n",
    "df_departments.rename(columns= {\"Unnamed: 0\": \"department_id\"}, inplace = True)"
   ]
  },
  {
   "cell_type": "code",
   "execution_count": 62,
   "id": "e569a930",
   "metadata": {},
   "outputs": [
    {
     "data": {
      "text/html": [
       "<div>\n",
       "<style scoped>\n",
       "    .dataframe tbody tr th:only-of-type {\n",
       "        vertical-align: middle;\n",
       "    }\n",
       "\n",
       "    .dataframe tbody tr th {\n",
       "        vertical-align: top;\n",
       "    }\n",
       "\n",
       "    .dataframe thead th {\n",
       "        text-align: right;\n",
       "    }\n",
       "</style>\n",
       "<table border=\"1\" class=\"dataframe\">\n",
       "  <thead>\n",
       "    <tr style=\"text-align: right;\">\n",
       "      <th></th>\n",
       "      <th>department_id</th>\n",
       "      <th>department</th>\n",
       "    </tr>\n",
       "  </thead>\n",
       "  <tbody>\n",
       "    <tr>\n",
       "      <th>0</th>\n",
       "      <td>1</td>\n",
       "      <td>frozen</td>\n",
       "    </tr>\n",
       "    <tr>\n",
       "      <th>1</th>\n",
       "      <td>2</td>\n",
       "      <td>other</td>\n",
       "    </tr>\n",
       "    <tr>\n",
       "      <th>2</th>\n",
       "      <td>3</td>\n",
       "      <td>bakery</td>\n",
       "    </tr>\n",
       "    <tr>\n",
       "      <th>3</th>\n",
       "      <td>4</td>\n",
       "      <td>produce</td>\n",
       "    </tr>\n",
       "    <tr>\n",
       "      <th>4</th>\n",
       "      <td>5</td>\n",
       "      <td>alcohol</td>\n",
       "    </tr>\n",
       "    <tr>\n",
       "      <th>5</th>\n",
       "      <td>6</td>\n",
       "      <td>international</td>\n",
       "    </tr>\n",
       "    <tr>\n",
       "      <th>6</th>\n",
       "      <td>7</td>\n",
       "      <td>beverages</td>\n",
       "    </tr>\n",
       "    <tr>\n",
       "      <th>7</th>\n",
       "      <td>8</td>\n",
       "      <td>pets</td>\n",
       "    </tr>\n",
       "    <tr>\n",
       "      <th>8</th>\n",
       "      <td>9</td>\n",
       "      <td>dry goods pasta</td>\n",
       "    </tr>\n",
       "    <tr>\n",
       "      <th>9</th>\n",
       "      <td>10</td>\n",
       "      <td>bulk</td>\n",
       "    </tr>\n",
       "    <tr>\n",
       "      <th>10</th>\n",
       "      <td>11</td>\n",
       "      <td>personal care</td>\n",
       "    </tr>\n",
       "    <tr>\n",
       "      <th>11</th>\n",
       "      <td>12</td>\n",
       "      <td>meat seafood</td>\n",
       "    </tr>\n",
       "    <tr>\n",
       "      <th>12</th>\n",
       "      <td>13</td>\n",
       "      <td>pantry</td>\n",
       "    </tr>\n",
       "    <tr>\n",
       "      <th>13</th>\n",
       "      <td>14</td>\n",
       "      <td>breakfast</td>\n",
       "    </tr>\n",
       "    <tr>\n",
       "      <th>14</th>\n",
       "      <td>15</td>\n",
       "      <td>canned goods</td>\n",
       "    </tr>\n",
       "    <tr>\n",
       "      <th>15</th>\n",
       "      <td>16</td>\n",
       "      <td>dairy eggs</td>\n",
       "    </tr>\n",
       "    <tr>\n",
       "      <th>16</th>\n",
       "      <td>17</td>\n",
       "      <td>household</td>\n",
       "    </tr>\n",
       "    <tr>\n",
       "      <th>17</th>\n",
       "      <td>18</td>\n",
       "      <td>babies</td>\n",
       "    </tr>\n",
       "    <tr>\n",
       "      <th>18</th>\n",
       "      <td>19</td>\n",
       "      <td>snacks</td>\n",
       "    </tr>\n",
       "    <tr>\n",
       "      <th>19</th>\n",
       "      <td>20</td>\n",
       "      <td>deli</td>\n",
       "    </tr>\n",
       "    <tr>\n",
       "      <th>20</th>\n",
       "      <td>21</td>\n",
       "      <td>missing</td>\n",
       "    </tr>\n",
       "  </tbody>\n",
       "</table>\n",
       "</div>"
      ],
      "text/plain": [
       "    department_id       department\n",
       "0               1           frozen\n",
       "1               2            other\n",
       "2               3           bakery\n",
       "3               4          produce\n",
       "4               5          alcohol\n",
       "5               6    international\n",
       "6               7        beverages\n",
       "7               8             pets\n",
       "8               9  dry goods pasta\n",
       "9              10             bulk\n",
       "10             11    personal care\n",
       "11             12     meat seafood\n",
       "12             13           pantry\n",
       "13             14        breakfast\n",
       "14             15     canned goods\n",
       "15             16       dairy eggs\n",
       "16             17        household\n",
       "17             18           babies\n",
       "18             19           snacks\n",
       "19             20             deli\n",
       "20             21          missing"
      ]
     },
     "execution_count": 62,
     "metadata": {},
     "output_type": "execute_result"
    }
   ],
   "source": [
    "#Checking what product category each department_id corresponds to\n",
    "df_departments"
   ]
  },
  {
   "cell_type": "code",
   "execution_count": 63,
   "id": "cc893a07",
   "metadata": {},
   "outputs": [
    {
     "name": "stderr",
     "output_type": "stream",
     "text": [
      "C:\\Users\\Longus\\AppData\\Local\\Temp\\ipykernel_6360\\3015982259.py:2: SettingWithCopyWarning: \n",
      "A value is trying to be set on a copy of a slice from a DataFrame.\n",
      "Try using .loc[row_indexer,col_indexer] = value instead\n",
      "\n",
      "See the caveats in the documentation: https://pandas.pydata.org/pandas-docs/stable/user_guide/indexing.html#returning-a-view-versus-a-copy\n",
      "  high_activity_custs.loc[high_activity_custs['department_id'] == 11, 'profile'] = 'Meat Eaters'\n"
     ]
    }
   ],
   "source": [
    "#Creating a profile for customers that eat meat \n",
    "high_activity_custs.loc[high_activity_custs['department_id'] == 11, 'profile'] = 'Meat Eaters'"
   ]
  },
  {
   "cell_type": "code",
   "execution_count": 64,
   "id": "2b7e493f",
   "metadata": {},
   "outputs": [],
   "source": [
    "#Creating a profile for customers that drink alcohol\n",
    "high_activity_custs.loc[high_activity_custs['department_id'] == 5, 'profile'] = 'Alcohol Drinkers'"
   ]
  },
  {
   "cell_type": "code",
   "execution_count": 65,
   "id": "85cdab5c",
   "metadata": {},
   "outputs": [],
   "source": [
    "#Creating a profile for pet owners\n",
    "high_activity_custs.loc[high_activity_custs['department_id'] == 8, 'profile'] = 'Pet Owners'"
   ]
  },
  {
   "cell_type": "markdown",
   "id": "abce5bbe",
   "metadata": {},
   "source": [
    "### 5.5 Creating other profiles based on combination of factors"
   ]
  },
  {
   "cell_type": "code",
   "execution_count": 66,
   "id": "2e2ab145",
   "metadata": {},
   "outputs": [],
   "source": [
    "#Creating a profile for customers in low income families\n",
    "high_activity_custs.loc[(high_activity_custs['number_dependants'] > 1) & (high_activity_custs['income_category'] == 'Low Income'), 'profile'] = 'Low income family'"
   ]
  },
  {
   "cell_type": "code",
   "execution_count": 67,
   "id": "63c28b2d",
   "metadata": {},
   "outputs": [],
   "source": [
    "#Creating a profile for customers in average income families\n",
    "high_activity_custs.loc[(high_activity_custs['number_dependants'] > 1) & (high_activity_custs['income_category'] == 'Middle Income'), 'profile'] = 'Average income family'"
   ]
  },
  {
   "cell_type": "code",
   "execution_count": 83,
   "id": "f2a9c8fd",
   "metadata": {},
   "outputs": [],
   "source": [
    "#Creating a profile for customers in high income families\n",
    "high_activity_custs.loc[(high_activity_custs['number_dependants'] > 1) & (high_activity_custs['income_category'] == 'High Income'), 'profile'] = 'High income family'"
   ]
  },
  {
   "cell_type": "code",
   "execution_count": 69,
   "id": "9c359d1b",
   "metadata": {},
   "outputs": [],
   "source": [
    "#Creating a profile for customers that are young and have high income\n",
    "high_activity_custs.loc[(high_activity_custs['age_category'] == 'Young Adult') & (high_activity_custs['income_category'] == 'High Income'), 'profile'] = 'Rich Young Adult'"
   ]
  },
  {
   "cell_type": "code",
   "execution_count": 70,
   "id": "717b7449",
   "metadata": {},
   "outputs": [],
   "source": [
    "#Creating a profile for customers that are middle aged and have high income\n",
    "high_activity_custs.loc[(high_activity_custs['age_category'] == 'Middle Aged') & (high_activity_custs['income_category'] == 'High Income'), 'profile'] = 'Rich Middle Aged'"
   ]
  },
  {
   "cell_type": "code",
   "execution_count": 71,
   "id": "194816a1",
   "metadata": {},
   "outputs": [],
   "source": [
    "#Creating a profile for customers that are senior and have high income\n",
    "high_activity_custs.loc[(high_activity_custs['age_category'] == 'Senior') & (high_activity_custs['income_category'] == 'High Income'), 'profile'] = 'Rich Senior' "
   ]
  },
  {
   "cell_type": "code",
   "execution_count": 72,
   "id": "62ace9fc",
   "metadata": {},
   "outputs": [
    {
     "name": "stderr",
     "output_type": "stream",
     "text": [
      "C:\\Users\\Longus\\AppData\\Local\\Temp\\ipykernel_6360\\3065362639.py:2: SettingWithCopyWarning: \n",
      "A value is trying to be set on a copy of a slice from a DataFrame.\n",
      "Try using .loc[row_indexer,col_indexer] = value instead\n",
      "\n",
      "See the caveats in the documentation: https://pandas.pydata.org/pandas-docs/stable/user_guide/indexing.html#returning-a-view-versus-a-copy\n",
      "  high_activity_custs['profile'] = high_activity_custs['profile'].fillna('other')\n"
     ]
    }
   ],
   "source": [
    "#Filling NaN as \"other\"\n",
    "high_activity_custs['profile'] = high_activity_custs['profile'].fillna('other')"
   ]
  },
  {
   "cell_type": "code",
   "execution_count": 84,
   "id": "851924ff",
   "metadata": {},
   "outputs": [
    {
     "data": {
      "text/plain": [
       "other                    11354953\n",
       "Average income family     7738821\n",
       "Low income family         3884192\n",
       "High income family        3882764\n",
       "Rich Middle Aged          2275559\n",
       "Rich Senior               1540780\n",
       "Meat Eaters                158958\n",
       "Alcohol Drinkers            51704\n",
       "Rich Young Adult            41988\n",
       "Pet Owners                  34845\n",
       "Name: profile, dtype: int64"
      ]
     },
     "execution_count": 84,
     "metadata": {},
     "output_type": "execute_result"
    }
   ],
   "source": [
    "high_activity_custs['profile'].value_counts(dropna = False)"
   ]
  },
  {
   "cell_type": "markdown",
   "id": "e0bbee87",
   "metadata": {},
   "source": [
    "## 6 Create an appropriate visualization to show the distribution of profiles."
   ]
  },
  {
   "cell_type": "code",
   "execution_count": 166,
   "id": "46d8ea8e",
   "metadata": {},
   "outputs": [
    {
     "data": {
      "text/plain": [
       "Text(0.5, 0, 'Customer Profiles')"
      ]
     },
     "execution_count": 166,
     "metadata": {},
     "output_type": "execute_result"
    },
    {
     "data": {
      "image/png": "[encoded data removed]",
      "text/plain": [
       "<Figure size 1000x500 with 1 Axes>"
      ]
     },
     "metadata": {},
     "output_type": "display_data"
    }
   ],
   "source": [
    "#Creating a bar chart with the profiles\n",
    "bar_profiles = high_activity_custs['profile'].value_counts().plot.bar(rot = 25, figsize = (10,5))\n",
    "plt.ylabel ('Instacart Customers (in milions)')\n",
    "plt.xlabel ('Customer Profiles')"
   ]
  },
  {
   "cell_type": "code",
   "execution_count": 165,
   "id": "9a20a78d",
   "metadata": {},
   "outputs": [
    {
     "data": {
      "text/plain": [
       "Text(0.5, 0, 'Age Category')"
      ]
     },
     "execution_count": 165,
     "metadata": {},
     "output_type": "execute_result"
    },
    {
     "data": {
      "image/png": "[encoded data removed]",
      "text/plain": [
       "<Figure size 1000x500 with 1 Axes>"
      ]
     },
     "metadata": {},
     "output_type": "display_data"
    }
   ],
   "source": [
    "#Creating a bar chart with the 'age_category'\n",
    "bar_age = high_activity_custs['age_category'].value_counts().plot.bar(rot = 0, figsize = (10,5), color = 'darkgreen')\n",
    "plt.ylabel ('Instacart Customers (in milions)')\n",
    "plt.xlabel ('Age Category')"
   ]
  },
  {
   "cell_type": "code",
   "execution_count": 167,
   "id": "5386f6cc",
   "metadata": {},
   "outputs": [
    {
     "data": {
      "text/plain": [
       "Text(0.5, 0, 'Income Category')"
      ]
     },
     "execution_count": 167,
     "metadata": {},
     "output_type": "execute_result"
    },
    {
     "data": {
      "image/png": "[encoded data removed]",
      "text/plain": [
       "<Figure size 1000x500 with 1 Axes>"
      ]
     },
     "metadata": {},
     "output_type": "display_data"
    }
   ],
   "source": [
    "#Creating a bar chart with the 'income_category'\n",
    "bar_income = high_activity_custs['income_category'].value_counts().plot.bar(rot = 0, figsize = (10,5), color = 'red')\n",
    "plt.ylabel ('Instacart Customers (in milions)')\n",
    "plt.xlabel ('Income Category')"
   ]
  },
  {
   "cell_type": "code",
   "execution_count": 169,
   "id": "474d4003",
   "metadata": {},
   "outputs": [
    {
     "data": {
      "text/plain": [
       "Text(0.5, 0, '')"
      ]
     },
     "execution_count": 169,
     "metadata": {},
     "output_type": "execute_result"
    },
    {
     "data": {
      "image/png": "[encoded data removed]",
      "text/plain": [
       "<Figure size 1000x500 with 1 Axes>"
      ]
     },
     "metadata": {},
     "output_type": "display_data"
    }
   ],
   "source": [
    "#Creating a bar chart with the 'household'\n",
    "bar_household = high_activity_custs['household'].value_counts().plot.bar(rot = 0, figsize = (10,5), color = 'orange')\n",
    "plt.ylabel ('Instacart Customers (in milions)')\n",
    "plt.xlabel ('')"
   ]
  },
  {
   "cell_type": "markdown",
   "id": "ab9f66b2",
   "metadata": {},
   "source": [
    "## 7 Aggregate the max, mean, and min variables on a customer-profile level for usage frequency and expenditure"
   ]
  },
  {
   "cell_type": "code",
   "execution_count": 89,
   "id": "ee23e7a4",
   "metadata": {},
   "outputs": [
    {
     "data": {
      "text/html": [
       "<div>\n",
       "<style scoped>\n",
       "    .dataframe tbody tr th:only-of-type {\n",
       "        vertical-align: middle;\n",
       "    }\n",
       "\n",
       "    .dataframe tbody tr th {\n",
       "        vertical-align: top;\n",
       "    }\n",
       "\n",
       "    .dataframe thead tr th {\n",
       "        text-align: left;\n",
       "    }\n",
       "\n",
       "    .dataframe thead tr:last-of-type th {\n",
       "        text-align: right;\n",
       "    }\n",
       "</style>\n",
       "<table border=\"1\" class=\"dataframe\">\n",
       "  <thead>\n",
       "    <tr>\n",
       "      <th></th>\n",
       "      <th colspan=\"3\" halign=\"left\">prices</th>\n",
       "      <th colspan=\"3\" halign=\"left\">days_since_prior_order</th>\n",
       "    </tr>\n",
       "    <tr>\n",
       "      <th></th>\n",
       "      <th>max</th>\n",
       "      <th>min</th>\n",
       "      <th>mean</th>\n",
       "      <th>max</th>\n",
       "      <th>min</th>\n",
       "      <th>mean</th>\n",
       "    </tr>\n",
       "    <tr>\n",
       "      <th>profile</th>\n",
       "      <th></th>\n",
       "      <th></th>\n",
       "      <th></th>\n",
       "      <th></th>\n",
       "      <th></th>\n",
       "      <th></th>\n",
       "    </tr>\n",
       "  </thead>\n",
       "  <tbody>\n",
       "    <tr>\n",
       "      <th>Alcohol Drinkers</th>\n",
       "      <td>15.0</td>\n",
       "      <td>1.0</td>\n",
       "      <td>8.050108</td>\n",
       "      <td>30.0</td>\n",
       "      <td>0.0</td>\n",
       "      <td>10.064628</td>\n",
       "    </tr>\n",
       "    <tr>\n",
       "      <th>Average income family</th>\n",
       "      <td>25.0</td>\n",
       "      <td>1.0</td>\n",
       "      <td>7.952906</td>\n",
       "      <td>30.0</td>\n",
       "      <td>0.0</td>\n",
       "      <td>10.775546</td>\n",
       "    </tr>\n",
       "    <tr>\n",
       "      <th>High income family</th>\n",
       "      <td>25.0</td>\n",
       "      <td>1.0</td>\n",
       "      <td>7.954694</td>\n",
       "      <td>30.0</td>\n",
       "      <td>0.0</td>\n",
       "      <td>10.780449</td>\n",
       "    </tr>\n",
       "    <tr>\n",
       "      <th>Low income family</th>\n",
       "      <td>25.0</td>\n",
       "      <td>1.0</td>\n",
       "      <td>7.294760</td>\n",
       "      <td>30.0</td>\n",
       "      <td>0.0</td>\n",
       "      <td>10.962736</td>\n",
       "    </tr>\n",
       "    <tr>\n",
       "      <th>Meat Eaters</th>\n",
       "      <td>15.0</td>\n",
       "      <td>1.0</td>\n",
       "      <td>8.011526</td>\n",
       "      <td>30.0</td>\n",
       "      <td>0.0</td>\n",
       "      <td>11.389248</td>\n",
       "    </tr>\n",
       "    <tr>\n",
       "      <th>Pet Owners</th>\n",
       "      <td>15.0</td>\n",
       "      <td>1.0</td>\n",
       "      <td>7.899922</td>\n",
       "      <td>30.0</td>\n",
       "      <td>0.0</td>\n",
       "      <td>11.782070</td>\n",
       "    </tr>\n",
       "    <tr>\n",
       "      <th>Rich Middle Aged</th>\n",
       "      <td>25.0</td>\n",
       "      <td>1.0</td>\n",
       "      <td>7.941129</td>\n",
       "      <td>30.0</td>\n",
       "      <td>0.0</td>\n",
       "      <td>10.773468</td>\n",
       "    </tr>\n",
       "    <tr>\n",
       "      <th>Rich Senior</th>\n",
       "      <td>25.0</td>\n",
       "      <td>1.0</td>\n",
       "      <td>7.960154</td>\n",
       "      <td>30.0</td>\n",
       "      <td>0.0</td>\n",
       "      <td>10.706337</td>\n",
       "    </tr>\n",
       "    <tr>\n",
       "      <th>Rich Young Adult</th>\n",
       "      <td>25.0</td>\n",
       "      <td>1.0</td>\n",
       "      <td>7.753322</td>\n",
       "      <td>30.0</td>\n",
       "      <td>0.0</td>\n",
       "      <td>9.422276</td>\n",
       "    </tr>\n",
       "    <tr>\n",
       "      <th>other</th>\n",
       "      <td>25.0</td>\n",
       "      <td>1.0</td>\n",
       "      <td>7.735866</td>\n",
       "      <td>30.0</td>\n",
       "      <td>0.0</td>\n",
       "      <td>10.811167</td>\n",
       "    </tr>\n",
       "  </tbody>\n",
       "</table>\n",
       "</div>"
      ],
      "text/plain": [
       "                      prices                days_since_prior_order       \\\n",
       "                         max  min      mean                    max  min   \n",
       "profile                                                                   \n",
       "Alcohol Drinkers        15.0  1.0  8.050108                   30.0  0.0   \n",
       "Average income family   25.0  1.0  7.952906                   30.0  0.0   \n",
       "High income family      25.0  1.0  7.954694                   30.0  0.0   \n",
       "Low income family       25.0  1.0  7.294760                   30.0  0.0   \n",
       "Meat Eaters             15.0  1.0  8.011526                   30.0  0.0   \n",
       "Pet Owners              15.0  1.0  7.899922                   30.0  0.0   \n",
       "Rich Middle Aged        25.0  1.0  7.941129                   30.0  0.0   \n",
       "Rich Senior             25.0  1.0  7.960154                   30.0  0.0   \n",
       "Rich Young Adult        25.0  1.0  7.753322                   30.0  0.0   \n",
       "other                   25.0  1.0  7.735866                   30.0  0.0   \n",
       "\n",
       "                                  \n",
       "                            mean  \n",
       "profile                           \n",
       "Alcohol Drinkers       10.064628  \n",
       "Average income family  10.775546  \n",
       "High income family     10.780449  \n",
       "Low income family      10.962736  \n",
       "Meat Eaters            11.389248  \n",
       "Pet Owners             11.782070  \n",
       "Rich Middle Aged       10.773468  \n",
       "Rich Senior            10.706337  \n",
       "Rich Young Adult        9.422276  \n",
       "other                  10.811167  "
      ]
     },
     "execution_count": 89,
     "metadata": {},
     "output_type": "execute_result"
    }
   ],
   "source": [
    "high_activity_custs.groupby('profile').agg({'prices':['max', 'min', 'mean'], 'days_since_prior_order':['max', 'min', 'mean']})"
   ]
  },
  {
   "cell_type": "markdown",
   "id": "9493862d",
   "metadata": {},
   "source": [
    "## 8 Compare your customer profiles with regions and departments"
   ]
  },
  {
   "cell_type": "code",
   "execution_count": 90,
   "id": "4f25866c",
   "metadata": {},
   "outputs": [],
   "source": [
    "#Comparing customer profiles and regions\n",
    "crosstab_profile_region = pd.crosstab(high_activity_custs['profile'], high_activity_custs['region'], dropna = False)"
   ]
  },
  {
   "cell_type": "code",
   "execution_count": 91,
   "id": "5dd156e9",
   "metadata": {},
   "outputs": [
    {
     "data": {
      "text/html": [
       "<div>\n",
       "<style scoped>\n",
       "    .dataframe tbody tr th:only-of-type {\n",
       "        vertical-align: middle;\n",
       "    }\n",
       "\n",
       "    .dataframe tbody tr th {\n",
       "        vertical-align: top;\n",
       "    }\n",
       "\n",
       "    .dataframe thead th {\n",
       "        text-align: right;\n",
       "    }\n",
       "</style>\n",
       "<table border=\"1\" class=\"dataframe\">\n",
       "  <thead>\n",
       "    <tr style=\"text-align: right;\">\n",
       "      <th>region</th>\n",
       "      <th>Midwest</th>\n",
       "      <th>Northeast</th>\n",
       "      <th>South</th>\n",
       "      <th>West</th>\n",
       "    </tr>\n",
       "    <tr>\n",
       "      <th>profile</th>\n",
       "      <th></th>\n",
       "      <th></th>\n",
       "      <th></th>\n",
       "      <th></th>\n",
       "    </tr>\n",
       "  </thead>\n",
       "  <tbody>\n",
       "    <tr>\n",
       "      <th>Alcohol Drinkers</th>\n",
       "      <td>12571</td>\n",
       "      <td>8527</td>\n",
       "      <td>17084</td>\n",
       "      <td>13522</td>\n",
       "    </tr>\n",
       "    <tr>\n",
       "      <th>Average income family</th>\n",
       "      <td>1771992</td>\n",
       "      <td>1364251</td>\n",
       "      <td>2611583</td>\n",
       "      <td>1990995</td>\n",
       "    </tr>\n",
       "    <tr>\n",
       "      <th>High income family</th>\n",
       "      <td>925529</td>\n",
       "      <td>691221</td>\n",
       "      <td>1278972</td>\n",
       "      <td>987042</td>\n",
       "    </tr>\n",
       "    <tr>\n",
       "      <th>Low income family</th>\n",
       "      <td>899759</td>\n",
       "      <td>677722</td>\n",
       "      <td>1299026</td>\n",
       "      <td>1007685</td>\n",
       "    </tr>\n",
       "    <tr>\n",
       "      <th>Meat Eaters</th>\n",
       "      <td>37638</td>\n",
       "      <td>27512</td>\n",
       "      <td>53058</td>\n",
       "      <td>40750</td>\n",
       "    </tr>\n",
       "    <tr>\n",
       "      <th>Pet Owners</th>\n",
       "      <td>8669</td>\n",
       "      <td>6558</td>\n",
       "      <td>10862</td>\n",
       "      <td>8756</td>\n",
       "    </tr>\n",
       "    <tr>\n",
       "      <th>Rich Middle Aged</th>\n",
       "      <td>554885</td>\n",
       "      <td>381637</td>\n",
       "      <td>751757</td>\n",
       "      <td>587280</td>\n",
       "    </tr>\n",
       "    <tr>\n",
       "      <th>Rich Senior</th>\n",
       "      <td>351471</td>\n",
       "      <td>293010</td>\n",
       "      <td>501637</td>\n",
       "      <td>394662</td>\n",
       "    </tr>\n",
       "    <tr>\n",
       "      <th>Rich Young Adult</th>\n",
       "      <td>9953</td>\n",
       "      <td>6970</td>\n",
       "      <td>16901</td>\n",
       "      <td>8164</td>\n",
       "    </tr>\n",
       "    <tr>\n",
       "      <th>other</th>\n",
       "      <td>2689046</td>\n",
       "      <td>2007277</td>\n",
       "      <td>3770259</td>\n",
       "      <td>2888371</td>\n",
       "    </tr>\n",
       "  </tbody>\n",
       "</table>\n",
       "</div>"
      ],
      "text/plain": [
       "region                 Midwest  Northeast    South     West\n",
       "profile                                                    \n",
       "Alcohol Drinkers         12571       8527    17084    13522\n",
       "Average income family  1771992    1364251  2611583  1990995\n",
       "High income family      925529     691221  1278972   987042\n",
       "Low income family       899759     677722  1299026  1007685\n",
       "Meat Eaters              37638      27512    53058    40750\n",
       "Pet Owners                8669       6558    10862     8756\n",
       "Rich Middle Aged        554885     381637   751757   587280\n",
       "Rich Senior             351471     293010   501637   394662\n",
       "Rich Young Adult          9953       6970    16901     8164\n",
       "other                  2689046    2007277  3770259  2888371"
      ]
     },
     "execution_count": 91,
     "metadata": {},
     "output_type": "execute_result"
    }
   ],
   "source": [
    "crosstab_profile_region"
   ]
  },
  {
   "cell_type": "code",
   "execution_count": 92,
   "id": "e0613f8f",
   "metadata": {},
   "outputs": [
    {
     "data": {
      "text/plain": [
       "([<matplotlib.axis.XTick at 0x149fe520820>,\n",
       "  <matplotlib.axis.XTick at 0x149fe5207f0>,\n",
       "  <matplotlib.axis.XTick at 0x1493cce0910>,\n",
       "  <matplotlib.axis.XTick at 0x1493d0c5070>,\n",
       "  <matplotlib.axis.XTick at 0x1493d0c56a0>,\n",
       "  <matplotlib.axis.XTick at 0x1493d0c5df0>,\n",
       "  <matplotlib.axis.XTick at 0x1493d0e6580>,\n",
       "  <matplotlib.axis.XTick at 0x149fe4f5490>,\n",
       "  <matplotlib.axis.XTick at 0x1493d0e6220>,\n",
       "  <matplotlib.axis.XTick at 0x1493d0bc0d0>],\n",
       " [Text(0, 0, 'Alcohol Drinkers'),\n",
       "  Text(1, 0, 'Average income family'),\n",
       "  Text(2, 0, 'High income family'),\n",
       "  Text(3, 0, 'Low income family'),\n",
       "  Text(4, 0, 'Meat Eaters'),\n",
       "  Text(5, 0, 'Pet Owners'),\n",
       "  Text(6, 0, 'Rich Middle Aged'),\n",
       "  Text(7, 0, 'Rich Senior'),\n",
       "  Text(8, 0, 'Rich Young Adult'),\n",
       "  Text(9, 0, 'other')])"
      ]
     },
     "execution_count": 92,
     "metadata": {},
     "output_type": "execute_result"
    },
    {
     "data": {
      "image/png": "[encoded data removed]",
      "text/plain": [
       "<Figure size 1600x500 with 1 Axes>"
      ]
     },
     "metadata": {},
     "output_type": "display_data"
    }
   ],
   "source": [
    "#Creating a stacked bar chart for % of orders by profile and region\n",
    "bar_profile_region = crosstab_profile_region.loc[:,['Midwest','Northeast','South','West']].apply(lambda x: x*100/sum(x), axis=1).plot.bar(stacked=True, rot=45, figsize=(16,5), colormap = 'tab10').legend(title=\"Region\", bbox_to_anchor=(1.0,1.0))\n",
    "plt.xlabel(\"\")\n",
    "plt.ylabel(\"% of orders by region\")\n",
    "plt.title (\"Instacart orders by profile and region\")\n",
    "plt.xticks([0,1,2,3,4,5,6,7,8,9],['Alcohol Drinkers', 'Average income family', 'High income family', 'Low income family', 'Meat Eaters', 'Pet Owners', 'Rich Middle Aged', 'Rich Senior', 'Rich Young Adult', 'other'])"
   ]
  },
  {
   "cell_type": "markdown",
   "id": "5f4c81f8",
   "metadata": {},
   "source": [
    "#### The Southern region has the highest percentage of orders among all profiles. The region struggling the most is Northeast"
   ]
  },
  {
   "cell_type": "code",
   "execution_count": 81,
   "id": "3bed2eee",
   "metadata": {},
   "outputs": [],
   "source": [
    "#Comparing customer profiles and departments\n",
    "crosstab_profile_department = pd.crosstab(high_activity_custs['profile'], high_activity_custs['department_id'], dropna = False)"
   ]
  },
  {
   "cell_type": "code",
   "execution_count": 82,
   "id": "e2e78032",
   "metadata": {},
   "outputs": [
    {
     "data": {
      "text/html": [
       "<div>\n",
       "<style scoped>\n",
       "    .dataframe tbody tr th:only-of-type {\n",
       "        vertical-align: middle;\n",
       "    }\n",
       "\n",
       "    .dataframe tbody tr th {\n",
       "        vertical-align: top;\n",
       "    }\n",
       "\n",
       "    .dataframe thead th {\n",
       "        text-align: right;\n",
       "    }\n",
       "</style>\n",
       "<table border=\"1\" class=\"dataframe\">\n",
       "  <thead>\n",
       "    <tr style=\"text-align: right;\">\n",
       "      <th>department_id</th>\n",
       "      <th>1</th>\n",
       "      <th>2</th>\n",
       "      <th>3</th>\n",
       "      <th>4</th>\n",
       "      <th>5</th>\n",
       "      <th>6</th>\n",
       "      <th>7</th>\n",
       "      <th>8</th>\n",
       "      <th>9</th>\n",
       "      <th>10</th>\n",
       "      <th>11</th>\n",
       "      <th>12</th>\n",
       "      <th>13</th>\n",
       "      <th>14</th>\n",
       "      <th>15</th>\n",
       "      <th>16</th>\n",
       "      <th>17</th>\n",
       "      <th>18</th>\n",
       "      <th>19</th>\n",
       "      <th>20</th>\n",
       "      <th>21</th>\n",
       "    </tr>\n",
       "    <tr>\n",
       "      <th>profile</th>\n",
       "      <th></th>\n",
       "      <th></th>\n",
       "      <th></th>\n",
       "      <th></th>\n",
       "      <th></th>\n",
       "      <th></th>\n",
       "      <th></th>\n",
       "      <th></th>\n",
       "      <th></th>\n",
       "      <th></th>\n",
       "      <th></th>\n",
       "      <th></th>\n",
       "      <th></th>\n",
       "      <th></th>\n",
       "      <th></th>\n",
       "      <th></th>\n",
       "      <th></th>\n",
       "      <th></th>\n",
       "      <th></th>\n",
       "      <th></th>\n",
       "      <th></th>\n",
       "    </tr>\n",
       "  </thead>\n",
       "  <tbody>\n",
       "    <tr>\n",
       "      <th>Alcohol Drinkers</th>\n",
       "      <td>0</td>\n",
       "      <td>0</td>\n",
       "      <td>0</td>\n",
       "      <td>0</td>\n",
       "      <td>51704</td>\n",
       "      <td>0</td>\n",
       "      <td>0</td>\n",
       "      <td>0</td>\n",
       "      <td>0</td>\n",
       "      <td>0</td>\n",
       "      <td>0</td>\n",
       "      <td>0</td>\n",
       "      <td>0</td>\n",
       "      <td>0</td>\n",
       "      <td>0</td>\n",
       "      <td>0</td>\n",
       "      <td>0</td>\n",
       "      <td>0</td>\n",
       "      <td>0</td>\n",
       "      <td>0</td>\n",
       "      <td>0</td>\n",
       "    </tr>\n",
       "    <tr>\n",
       "      <th>Average income family</th>\n",
       "      <td>536196</td>\n",
       "      <td>8456</td>\n",
       "      <td>280868</td>\n",
       "      <td>2330727</td>\n",
       "      <td>34199</td>\n",
       "      <td>65448</td>\n",
       "      <td>603778</td>\n",
       "      <td>23112</td>\n",
       "      <td>215154</td>\n",
       "      <td>8160</td>\n",
       "      <td>105375</td>\n",
       "      <td>182646</td>\n",
       "      <td>454764</td>\n",
       "      <td>159655</td>\n",
       "      <td>262157</td>\n",
       "      <td>1313277</td>\n",
       "      <td>171334</td>\n",
       "      <td>111061</td>\n",
       "      <td>604484</td>\n",
       "      <td>251487</td>\n",
       "      <td>16483</td>\n",
       "    </tr>\n",
       "    <tr>\n",
       "      <th>Low income family</th>\n",
       "      <td>258219</td>\n",
       "      <td>4119</td>\n",
       "      <td>132451</td>\n",
       "      <td>1067005</td>\n",
       "      <td>17862</td>\n",
       "      <td>28347</td>\n",
       "      <td>372931</td>\n",
       "      <td>10159</td>\n",
       "      <td>90082</td>\n",
       "      <td>5062</td>\n",
       "      <td>53853</td>\n",
       "      <td>64360</td>\n",
       "      <td>208275</td>\n",
       "      <td>94035</td>\n",
       "      <td>111226</td>\n",
       "      <td>613266</td>\n",
       "      <td>92473</td>\n",
       "      <td>42697</td>\n",
       "      <td>485113</td>\n",
       "      <td>124605</td>\n",
       "      <td>8052</td>\n",
       "    </tr>\n",
       "    <tr>\n",
       "      <th>Meat Eaters</th>\n",
       "      <td>0</td>\n",
       "      <td>0</td>\n",
       "      <td>0</td>\n",
       "      <td>0</td>\n",
       "      <td>0</td>\n",
       "      <td>0</td>\n",
       "      <td>0</td>\n",
       "      <td>0</td>\n",
       "      <td>0</td>\n",
       "      <td>0</td>\n",
       "      <td>158958</td>\n",
       "      <td>0</td>\n",
       "      <td>0</td>\n",
       "      <td>0</td>\n",
       "      <td>0</td>\n",
       "      <td>0</td>\n",
       "      <td>0</td>\n",
       "      <td>0</td>\n",
       "      <td>0</td>\n",
       "      <td>0</td>\n",
       "      <td>0</td>\n",
       "    </tr>\n",
       "    <tr>\n",
       "      <th>Pet Owners</th>\n",
       "      <td>0</td>\n",
       "      <td>0</td>\n",
       "      <td>0</td>\n",
       "      <td>0</td>\n",
       "      <td>0</td>\n",
       "      <td>0</td>\n",
       "      <td>0</td>\n",
       "      <td>34845</td>\n",
       "      <td>0</td>\n",
       "      <td>0</td>\n",
       "      <td>0</td>\n",
       "      <td>0</td>\n",
       "      <td>0</td>\n",
       "      <td>0</td>\n",
       "      <td>0</td>\n",
       "      <td>0</td>\n",
       "      <td>0</td>\n",
       "      <td>0</td>\n",
       "      <td>0</td>\n",
       "      <td>0</td>\n",
       "      <td>0</td>\n",
       "    </tr>\n",
       "    <tr>\n",
       "      <th>Rich Middle Aged</th>\n",
       "      <td>314533</td>\n",
       "      <td>5016</td>\n",
       "      <td>169421</td>\n",
       "      <td>1337258</td>\n",
       "      <td>23102</td>\n",
       "      <td>38324</td>\n",
       "      <td>359085</td>\n",
       "      <td>13985</td>\n",
       "      <td>124667</td>\n",
       "      <td>4374</td>\n",
       "      <td>61536</td>\n",
       "      <td>106458</td>\n",
       "      <td>267510</td>\n",
       "      <td>95275</td>\n",
       "      <td>156112</td>\n",
       "      <td>768098</td>\n",
       "      <td>101863</td>\n",
       "      <td>62196</td>\n",
       "      <td>350929</td>\n",
       "      <td>146915</td>\n",
       "      <td>9610</td>\n",
       "    </tr>\n",
       "    <tr>\n",
       "      <th>Rich Senior</th>\n",
       "      <td>219525</td>\n",
       "      <td>3467</td>\n",
       "      <td>116618</td>\n",
       "      <td>934751</td>\n",
       "      <td>15126</td>\n",
       "      <td>26305</td>\n",
       "      <td>251805</td>\n",
       "      <td>10484</td>\n",
       "      <td>85779</td>\n",
       "      <td>3156</td>\n",
       "      <td>43023</td>\n",
       "      <td>74457</td>\n",
       "      <td>184317</td>\n",
       "      <td>65382</td>\n",
       "      <td>106522</td>\n",
       "      <td>530347</td>\n",
       "      <td>71487</td>\n",
       "      <td>42487</td>\n",
       "      <td>244120</td>\n",
       "      <td>101804</td>\n",
       "      <td>6575</td>\n",
       "    </tr>\n",
       "    <tr>\n",
       "      <th>Rich Young Adult</th>\n",
       "      <td>7014</td>\n",
       "      <td>228</td>\n",
       "      <td>4384</td>\n",
       "      <td>17563</td>\n",
       "      <td>2634</td>\n",
       "      <td>711</td>\n",
       "      <td>7627</td>\n",
       "      <td>475</td>\n",
       "      <td>2475</td>\n",
       "      <td>11</td>\n",
       "      <td>1561</td>\n",
       "      <td>1965</td>\n",
       "      <td>5347</td>\n",
       "      <td>2220</td>\n",
       "      <td>3227</td>\n",
       "      <td>15563</td>\n",
       "      <td>3907</td>\n",
       "      <td>991</td>\n",
       "      <td>6938</td>\n",
       "      <td>2297</td>\n",
       "      <td>149</td>\n",
       "    </tr>\n",
       "    <tr>\n",
       "      <th>other</th>\n",
       "      <td>786244</td>\n",
       "      <td>13125</td>\n",
       "      <td>417086</td>\n",
       "      <td>3391969</td>\n",
       "      <td>0</td>\n",
       "      <td>96856</td>\n",
       "      <td>976675</td>\n",
       "      <td>0</td>\n",
       "      <td>303979</td>\n",
       "      <td>12688</td>\n",
       "      <td>0</td>\n",
       "      <td>244895</td>\n",
       "      <td>662492</td>\n",
       "      <td>254283</td>\n",
       "      <td>372830</td>\n",
       "      <td>1936631</td>\n",
       "      <td>258793</td>\n",
       "      <td>150960</td>\n",
       "      <td>1074822</td>\n",
       "      <td>376726</td>\n",
       "      <td>23899</td>\n",
       "    </tr>\n",
       "  </tbody>\n",
       "</table>\n",
       "</div>"
      ],
      "text/plain": [
       "department_id              1      2       3        4      5      6       7   \\\n",
       "profile                                                                       \n",
       "Alcohol Drinkers            0      0       0        0  51704      0       0   \n",
       "Average income family  536196   8456  280868  2330727  34199  65448  603778   \n",
       "Low income family      258219   4119  132451  1067005  17862  28347  372931   \n",
       "Meat Eaters                 0      0       0        0      0      0       0   \n",
       "Pet Owners                  0      0       0        0      0      0       0   \n",
       "Rich Middle Aged       314533   5016  169421  1337258  23102  38324  359085   \n",
       "Rich Senior            219525   3467  116618   934751  15126  26305  251805   \n",
       "Rich Young Adult         7014    228    4384    17563   2634    711    7627   \n",
       "other                  786244  13125  417086  3391969      0  96856  976675   \n",
       "\n",
       "department_id             8       9      10      11      12      13      14  \\\n",
       "profile                                                                       \n",
       "Alcohol Drinkers           0       0      0       0       0       0       0   \n",
       "Average income family  23112  215154   8160  105375  182646  454764  159655   \n",
       "Low income family      10159   90082   5062   53853   64360  208275   94035   \n",
       "Meat Eaters                0       0      0  158958       0       0       0   \n",
       "Pet Owners             34845       0      0       0       0       0       0   \n",
       "Rich Middle Aged       13985  124667   4374   61536  106458  267510   95275   \n",
       "Rich Senior            10484   85779   3156   43023   74457  184317   65382   \n",
       "Rich Young Adult         475    2475     11    1561    1965    5347    2220   \n",
       "other                      0  303979  12688       0  244895  662492  254283   \n",
       "\n",
       "department_id              15       16      17      18       19      20     21  \n",
       "profile                                                                         \n",
       "Alcohol Drinkers            0        0       0       0        0       0      0  \n",
       "Average income family  262157  1313277  171334  111061   604484  251487  16483  \n",
       "Low income family      111226   613266   92473   42697   485113  124605   8052  \n",
       "Meat Eaters                 0        0       0       0        0       0      0  \n",
       "Pet Owners                  0        0       0       0        0       0      0  \n",
       "Rich Middle Aged       156112   768098  101863   62196   350929  146915   9610  \n",
       "Rich Senior            106522   530347   71487   42487   244120  101804   6575  \n",
       "Rich Young Adult         3227    15563    3907     991     6938    2297    149  \n",
       "other                  372830  1936631  258793  150960  1074822  376726  23899  "
      ]
     },
     "execution_count": 82,
     "metadata": {},
     "output_type": "execute_result"
    }
   ],
   "source": [
    "crosstab_profile_department"
   ]
  },
  {
   "cell_type": "markdown",
   "id": "f35705a3",
   "metadata": {},
   "source": [
    "## 9 Visualizations to answer the questions in the project brief"
   ]
  },
  {
   "cell_type": "markdown",
   "id": "7fd3ea55",
   "metadata": {},
   "source": [
    "### What are the busiest days of the week and hours of the day?"
   ]
  },
  {
   "cell_type": "code",
   "execution_count": 125,
   "id": "644d8df5",
   "metadata": {},
   "outputs": [
    {
     "data": {
      "text/plain": [
       "Text(0, 0.5, 'Orders made(in millions)')"
      ]
     },
     "execution_count": 125,
     "metadata": {},
     "output_type": "execute_result"
    },
    {
     "data": {
      "image/png": "[encoded data removed]",
      "text/plain": [
       "<Figure size 640x480 with 1 Axes>"
      ]
     },
     "metadata": {},
     "output_type": "display_data"
    }
   ],
   "source": [
    "#Creating a bar chart for counts of values of 'order_day_of_week'\n",
    "bar_order_dow = high_activity_custs['order_day_of_week'].value_counts(dropna = False).plot.bar(rot = 0, color = 'darkgreen')\n",
    "plt.title('Orders per days of the week')\n",
    "plt.xlabel('Day of the week')\n",
    "plt.ylabel('Orders made(in millions)')"
   ]
  },
  {
   "cell_type": "code",
   "execution_count": 124,
   "id": "a379f9c5",
   "metadata": {},
   "outputs": [
    {
     "data": {
      "text/plain": [
       "Text(0, 0.5, 'Orders made(in millions)')"
      ]
     },
     "execution_count": 124,
     "metadata": {},
     "output_type": "execute_result"
    },
    {
     "data": {
      "image/png": "[encoded data removed]",
      "text/plain": [
       "<Figure size 640x480 with 1 Axes>"
      ]
     },
     "metadata": {},
     "output_type": "display_data"
    }
   ],
   "source": [
    "#Creating a histogram for count of values of 'order_hour_of_day'\n",
    "hist_order_hod = high_activity_custs['order_hour_of_day'].value_counts(dropna = False).sort_index().plot.bar(rot = 0, color = 'darkgreen')\n",
    "plt.title('Orders per hour of the day')\n",
    "plt.xlabel('Hour of the day')\n",
    "plt.ylabel('Orders made(in millions)')"
   ]
  },
  {
   "cell_type": "code",
   "execution_count": 35,
   "id": "aba7cf50",
   "metadata": {},
   "outputs": [
    {
     "data": {
      "image/png": "[encoded data removed]",
      "text/plain": [
       "<Figure size 640x480 with 1 Axes>"
      ]
     },
     "metadata": {},
     "output_type": "display_data"
    }
   ],
   "source": [
    "#Creating a line chart for customers spending per DOW\n",
    "line_prices_dow2 = sns.lineplot(data=high_activity_custs, x='order_day_of_week', y='prices')"
   ]
  },
  {
   "cell_type": "markdown",
   "id": "829cd54b",
   "metadata": {},
   "source": [
    "### Are there are particular times of the day when people spend the most money?"
   ]
  },
  {
   "cell_type": "code",
   "execution_count": 42,
   "id": "8605654d",
   "metadata": {},
   "outputs": [
    {
     "data": {
      "image/png": "[encoded data removed]",
      "text/plain": [
       "<Figure size 640x480 with 1 Axes>"
      ]
     },
     "metadata": {},
     "output_type": "display_data"
    }
   ],
   "source": [
    "#Creating a line chart for customers spending per HOD\n",
    "line_prices_hod = sns.lineplot(data = high_activity_custs, x = 'order_hour_of_day', y = 'prices')"
   ]
  },
  {
   "cell_type": "markdown",
   "id": "2217cfce",
   "metadata": {},
   "source": [
    "### Marketing and sales want to use simpler price range groupings to help direct their efforts."
   ]
  },
  {
   "cell_type": "code",
   "execution_count": 130,
   "id": "dd5296d6",
   "metadata": {},
   "outputs": [
    {
     "data": {
      "text/plain": [
       "Text(0.5, 1.0, 'Instacart Products Price Range')"
      ]
     },
     "execution_count": 130,
     "metadata": {},
     "output_type": "execute_result"
    },
    {
     "data": {
      "image/png": "[encoded data removed]",
      "text/plain": [
       "<Figure size 1000x500 with 1 Axes>"
      ]
     },
     "metadata": {},
     "output_type": "display_data"
    }
   ],
   "source": [
    "#Creating a bar chart with the price range of the products\n",
    "bar_price_range = high_activity_custs['price_range_loc'].value_counts(dropna = False).plot.bar(rot = 0, figsize = (10,5), color = 'darkgreen')\n",
    "plt.xlabel('')\n",
    "plt.ylabel('Number of Orders')\n",
    "plt.title ('Instacart Products Price Range')"
   ]
  },
  {
   "cell_type": "code",
   "execution_count": 103,
   "id": "213d5e98",
   "metadata": {},
   "outputs": [
    {
     "data": {
      "text/plain": [
       "Text(0, 0.5, 'Number of Orders(in millions)')"
      ]
     },
     "execution_count": 103,
     "metadata": {},
     "output_type": "execute_result"
    },
    {
     "data": {
      "image/png": "[encoded data removed]",
      "text/plain": [
       "<Figure size 640x480 with 1 Axes>"
      ]
     },
     "metadata": {},
     "output_type": "display_data"
    }
   ],
   "source": [
    "#Creating a histogram for the 'prices' column\n",
    "hist_prices = high_activity_custs['prices'].plot.hist(bins = 25, color = 'darkgreen')\n",
    "plt.title('Product Prices')\n",
    "plt.xlabel('Prices')\n",
    "plt.ylabel('Number of Orders(in millions)')"
   ]
  },
  {
   "cell_type": "markdown",
   "id": "0ba46490",
   "metadata": {},
   "source": [
    "### Are there certain types of products that are more popular than others?"
   ]
  },
  {
   "cell_type": "code",
   "execution_count": 104,
   "id": "6c6f1033",
   "metadata": {},
   "outputs": [],
   "source": [
    "#Creating a crosstab between 'department_id' and 'price_range_loc'\n",
    "crosstab_department_price_range = pd.crosstab(high_activity_custs['department_id'], high_activity_custs['price_range_loc'], dropna = False)"
   ]
  },
  {
   "cell_type": "code",
   "execution_count": 105,
   "id": "cd500494",
   "metadata": {},
   "outputs": [
    {
     "data": {
      "text/html": [
       "<div>\n",
       "<style scoped>\n",
       "    .dataframe tbody tr th:only-of-type {\n",
       "        vertical-align: middle;\n",
       "    }\n",
       "\n",
       "    .dataframe tbody tr th {\n",
       "        vertical-align: top;\n",
       "    }\n",
       "\n",
       "    .dataframe thead th {\n",
       "        text-align: right;\n",
       "    }\n",
       "</style>\n",
       "<table border=\"1\" class=\"dataframe\">\n",
       "  <thead>\n",
       "    <tr style=\"text-align: right;\">\n",
       "      <th>price_range_loc</th>\n",
       "      <th>High-range product</th>\n",
       "      <th>Low-range product</th>\n",
       "      <th>Mid-range product</th>\n",
       "    </tr>\n",
       "    <tr>\n",
       "      <th>department_id</th>\n",
       "      <th></th>\n",
       "      <th></th>\n",
       "      <th></th>\n",
       "    </tr>\n",
       "  </thead>\n",
       "  <tbody>\n",
       "    <tr>\n",
       "      <th>1</th>\n",
       "      <td>0</td>\n",
       "      <td>647617</td>\n",
       "      <td>1474114</td>\n",
       "    </tr>\n",
       "    <tr>\n",
       "      <th>2</th>\n",
       "      <td>0</td>\n",
       "      <td>15259</td>\n",
       "      <td>19152</td>\n",
       "    </tr>\n",
       "    <tr>\n",
       "      <th>3</th>\n",
       "      <td>0</td>\n",
       "      <td>274986</td>\n",
       "      <td>845842</td>\n",
       "    </tr>\n",
       "    <tr>\n",
       "      <th>4</th>\n",
       "      <td>0</td>\n",
       "      <td>2585708</td>\n",
       "      <td>6493565</td>\n",
       "    </tr>\n",
       "    <tr>\n",
       "      <th>5</th>\n",
       "      <td>0</td>\n",
       "      <td>33046</td>\n",
       "      <td>111581</td>\n",
       "    </tr>\n",
       "    <tr>\n",
       "      <th>6</th>\n",
       "      <td>0</td>\n",
       "      <td>73203</td>\n",
       "      <td>182788</td>\n",
       "    </tr>\n",
       "    <tr>\n",
       "      <th>7</th>\n",
       "      <td>0</td>\n",
       "      <td>814697</td>\n",
       "      <td>1757204</td>\n",
       "    </tr>\n",
       "    <tr>\n",
       "      <th>8</th>\n",
       "      <td>0</td>\n",
       "      <td>28165</td>\n",
       "      <td>64895</td>\n",
       "    </tr>\n",
       "    <tr>\n",
       "      <th>9</th>\n",
       "      <td>0</td>\n",
       "      <td>284346</td>\n",
       "      <td>537790</td>\n",
       "    </tr>\n",
       "    <tr>\n",
       "      <th>10</th>\n",
       "      <td>0</td>\n",
       "      <td>1181</td>\n",
       "      <td>32270</td>\n",
       "    </tr>\n",
       "    <tr>\n",
       "      <th>11</th>\n",
       "      <td>0</td>\n",
       "      <td>123874</td>\n",
       "      <td>300432</td>\n",
       "    </tr>\n",
       "    <tr>\n",
       "      <th>12</th>\n",
       "      <td>392855</td>\n",
       "      <td>0</td>\n",
       "      <td>281926</td>\n",
       "    </tr>\n",
       "    <tr>\n",
       "      <th>13</th>\n",
       "      <td>221</td>\n",
       "      <td>504521</td>\n",
       "      <td>1277963</td>\n",
       "    </tr>\n",
       "    <tr>\n",
       "      <th>14</th>\n",
       "      <td>0</td>\n",
       "      <td>209185</td>\n",
       "      <td>461665</td>\n",
       "    </tr>\n",
       "    <tr>\n",
       "      <th>15</th>\n",
       "      <td>0</td>\n",
       "      <td>281711</td>\n",
       "      <td>730363</td>\n",
       "    </tr>\n",
       "    <tr>\n",
       "      <th>16</th>\n",
       "      <td>4877</td>\n",
       "      <td>1370908</td>\n",
       "      <td>3801397</td>\n",
       "    </tr>\n",
       "    <tr>\n",
       "      <th>17</th>\n",
       "      <td>0</td>\n",
       "      <td>245070</td>\n",
       "      <td>454787</td>\n",
       "    </tr>\n",
       "    <tr>\n",
       "      <th>18</th>\n",
       "      <td>0</td>\n",
       "      <td>121484</td>\n",
       "      <td>288908</td>\n",
       "    </tr>\n",
       "    <tr>\n",
       "      <th>19</th>\n",
       "      <td>0</td>\n",
       "      <td>1742143</td>\n",
       "      <td>1024263</td>\n",
       "    </tr>\n",
       "    <tr>\n",
       "      <th>20</th>\n",
       "      <td>0</td>\n",
       "      <td>299220</td>\n",
       "      <td>704614</td>\n",
       "    </tr>\n",
       "    <tr>\n",
       "      <th>21</th>\n",
       "      <td>0</td>\n",
       "      <td>18516</td>\n",
       "      <td>46252</td>\n",
       "    </tr>\n",
       "  </tbody>\n",
       "</table>\n",
       "</div>"
      ],
      "text/plain": [
       "price_range_loc  High-range product  Low-range product  Mid-range product\n",
       "department_id                                                            \n",
       "1                                 0             647617            1474114\n",
       "2                                 0              15259              19152\n",
       "3                                 0             274986             845842\n",
       "4                                 0            2585708            6493565\n",
       "5                                 0              33046             111581\n",
       "6                                 0              73203             182788\n",
       "7                                 0             814697            1757204\n",
       "8                                 0              28165              64895\n",
       "9                                 0             284346             537790\n",
       "10                                0               1181              32270\n",
       "11                                0             123874             300432\n",
       "12                           392855                  0             281926\n",
       "13                              221             504521            1277963\n",
       "14                                0             209185             461665\n",
       "15                                0             281711             730363\n",
       "16                             4877            1370908            3801397\n",
       "17                                0             245070             454787\n",
       "18                                0             121484             288908\n",
       "19                                0            1742143            1024263\n",
       "20                                0             299220             704614\n",
       "21                                0              18516              46252"
      ]
     },
     "execution_count": 105,
     "metadata": {},
     "output_type": "execute_result"
    }
   ],
   "source": [
    "crosstab_department_price_range"
   ]
  },
  {
   "cell_type": "code",
   "execution_count": 126,
   "id": "20ad57d0",
   "metadata": {},
   "outputs": [
    {
     "data": {
      "text/plain": [
       "Text(0, 0.5, 'Number of Orders(in millions)')"
      ]
     },
     "execution_count": 126,
     "metadata": {},
     "output_type": "execute_result"
    },
    {
     "data": {
      "image/png": "[encoded data removed]",
      "text/plain": [
       "<Figure size 1200x700 with 1 Axes>"
      ]
     },
     "metadata": {},
     "output_type": "display_data"
    }
   ],
   "source": [
    "#Creating a chart showing number of orders per 'price_range_loc' and department_id\n",
    "bar_department_price_range = crosstab_department_price_range.plot.bar(rot = 0, figsize = (12,7), colormap = 'tab10' ).legend(title = 'Price Range')\n",
    "plt.title('Number of Orders by Price Range and Department')\n",
    "plt.xlabel('')\n",
    "plt.ylabel('Number of Orders(in millions)')"
   ]
  },
  {
   "cell_type": "markdown",
   "id": "a2a2119f",
   "metadata": {},
   "source": [
    "### What’s the distribution among users in regards to their brand loyalty (i.e., how often do they return to Instacart)?"
   ]
  },
  {
   "cell_type": "code",
   "execution_count": 132,
   "id": "c0be9779",
   "metadata": {},
   "outputs": [
    {
     "data": {
      "text/plain": [
       "Text(0, 0.5, 'Number of Customers')"
      ]
     },
     "execution_count": 132,
     "metadata": {},
     "output_type": "execute_result"
    },
    {
     "data": {
      "image/png": "[encoded data removed]",
      "text/plain": [
       "<Figure size 1000x500 with 1 Axes>"
      ]
     },
     "metadata": {},
     "output_type": "display_data"
    }
   ],
   "source": [
    "#Creating a bar chart of distribution of 'loyalty_flag'\n",
    "bar_loyalty = high_activity_custs['loyalty_flag'].value_counts(dropna = False).plot.bar(rot = 0, figsize = (10,5), color = 'darkgreen')\n",
    "plt.title('Customer loyalty')\n",
    "plt.xlabel('')\n",
    "plt.ylabel('Number of Customers')"
   ]
  },
  {
   "cell_type": "markdown",
   "id": "5eb65367",
   "metadata": {},
   "source": [
    "### Are there differences in ordering habits based on a customer’s loyalty status?"
   ]
  },
  {
   "cell_type": "code",
   "execution_count": 134,
   "id": "465892ac",
   "metadata": {},
   "outputs": [],
   "source": [
    "#Creating a crosstab between 'days_since_prior_order' and 'loyalty_flag'\n",
    "crosstab_loyalty_prior_order = pd.crosstab(high_activity_custs['days_since_prior_order'], high_activity_custs['loyalty_flag'], dropna = False)"
   ]
  },
  {
   "cell_type": "code",
   "execution_count": 135,
   "id": "24881153",
   "metadata": {},
   "outputs": [
    {
     "data": {
      "text/html": [
       "<div>\n",
       "<style scoped>\n",
       "    .dataframe tbody tr th:only-of-type {\n",
       "        vertical-align: middle;\n",
       "    }\n",
       "\n",
       "    .dataframe tbody tr th {\n",
       "        vertical-align: top;\n",
       "    }\n",
       "\n",
       "    .dataframe thead th {\n",
       "        text-align: right;\n",
       "    }\n",
       "</style>\n",
       "<table border=\"1\" class=\"dataframe\">\n",
       "  <thead>\n",
       "    <tr style=\"text-align: right;\">\n",
       "      <th>loyalty_flag</th>\n",
       "      <th>Loyal customer</th>\n",
       "      <th>New customer</th>\n",
       "      <th>Regular customer</th>\n",
       "    </tr>\n",
       "    <tr>\n",
       "      <th>days_since_prior_order</th>\n",
       "      <th></th>\n",
       "      <th></th>\n",
       "      <th></th>\n",
       "    </tr>\n",
       "  </thead>\n",
       "  <tbody>\n",
       "    <tr>\n",
       "      <th>0.0</th>\n",
       "      <td>239649</td>\n",
       "      <td>40517</td>\n",
       "      <td>157845</td>\n",
       "    </tr>\n",
       "    <tr>\n",
       "      <th>1.0</th>\n",
       "      <td>626159</td>\n",
       "      <td>43354</td>\n",
       "      <td>262177</td>\n",
       "    </tr>\n",
       "    <tr>\n",
       "      <th>2.0</th>\n",
       "      <td>973214</td>\n",
       "      <td>60662</td>\n",
       "      <td>417492</td>\n",
       "    </tr>\n",
       "    <tr>\n",
       "      <th>3.0</th>\n",
       "      <td>1185968</td>\n",
       "      <td>86136</td>\n",
       "      <td>587710</td>\n",
       "    </tr>\n",
       "    <tr>\n",
       "      <th>4.0</th>\n",
       "      <td>1202971</td>\n",
       "      <td>107496</td>\n",
       "      <td>747056</td>\n",
       "    </tr>\n",
       "    <tr>\n",
       "      <th>5.0</th>\n",
       "      <td>1074717</td>\n",
       "      <td>136069</td>\n",
       "      <td>886697</td>\n",
       "    </tr>\n",
       "    <tr>\n",
       "      <th>6.0</th>\n",
       "      <td>1090986</td>\n",
       "      <td>191359</td>\n",
       "      <td>1196418</td>\n",
       "    </tr>\n",
       "    <tr>\n",
       "      <th>7.0</th>\n",
       "      <td>1351314</td>\n",
       "      <td>291064</td>\n",
       "      <td>1775061</td>\n",
       "    </tr>\n",
       "    <tr>\n",
       "      <th>8.0</th>\n",
       "      <td>643383</td>\n",
       "      <td>185317</td>\n",
       "      <td>1065114</td>\n",
       "    </tr>\n",
       "    <tr>\n",
       "      <th>9.0</th>\n",
       "      <td>347725</td>\n",
       "      <td>133335</td>\n",
       "      <td>709660</td>\n",
       "    </tr>\n",
       "    <tr>\n",
       "      <th>10.0</th>\n",
       "      <td>247991</td>\n",
       "      <td>112535</td>\n",
       "      <td>583075</td>\n",
       "    </tr>\n",
       "    <tr>\n",
       "      <th>11.0</th>\n",
       "      <td>184155</td>\n",
       "      <td>105171</td>\n",
       "      <td>508602</td>\n",
       "    </tr>\n",
       "    <tr>\n",
       "      <th>12.0</th>\n",
       "      <td>151544</td>\n",
       "      <td>109366</td>\n",
       "      <td>489825</td>\n",
       "    </tr>\n",
       "    <tr>\n",
       "      <th>13.0</th>\n",
       "      <td>136552</td>\n",
       "      <td>133357</td>\n",
       "      <td>553077</td>\n",
       "    </tr>\n",
       "    <tr>\n",
       "      <th>14.0</th>\n",
       "      <td>147364</td>\n",
       "      <td>168474</td>\n",
       "      <td>675467</td>\n",
       "    </tr>\n",
       "    <tr>\n",
       "      <th>15.0</th>\n",
       "      <td>89470</td>\n",
       "      <td>115435</td>\n",
       "      <td>441082</td>\n",
       "    </tr>\n",
       "    <tr>\n",
       "      <th>16.0</th>\n",
       "      <td>57659</td>\n",
       "      <td>82193</td>\n",
       "      <td>301756</td>\n",
       "    </tr>\n",
       "    <tr>\n",
       "      <th>17.0</th>\n",
       "      <td>44725</td>\n",
       "      <td>72056</td>\n",
       "      <td>248835</td>\n",
       "    </tr>\n",
       "    <tr>\n",
       "      <th>18.0</th>\n",
       "      <td>37008</td>\n",
       "      <td>68874</td>\n",
       "      <td>230315</td>\n",
       "    </tr>\n",
       "    <tr>\n",
       "      <th>19.0</th>\n",
       "      <td>31115</td>\n",
       "      <td>68200</td>\n",
       "      <td>219714</td>\n",
       "    </tr>\n",
       "    <tr>\n",
       "      <th>20.0</th>\n",
       "      <td>32357</td>\n",
       "      <td>81275</td>\n",
       "      <td>247675</td>\n",
       "    </tr>\n",
       "    <tr>\n",
       "      <th>21.0</th>\n",
       "      <td>33447</td>\n",
       "      <td>102117</td>\n",
       "      <td>284867</td>\n",
       "    </tr>\n",
       "    <tr>\n",
       "      <th>22.0</th>\n",
       "      <td>23358</td>\n",
       "      <td>69966</td>\n",
       "      <td>199160</td>\n",
       "    </tr>\n",
       "    <tr>\n",
       "      <th>23.0</th>\n",
       "      <td>15475</td>\n",
       "      <td>54568</td>\n",
       "      <td>142771</td>\n",
       "    </tr>\n",
       "    <tr>\n",
       "      <th>24.0</th>\n",
       "      <td>12993</td>\n",
       "      <td>47454</td>\n",
       "      <td>122364</td>\n",
       "    </tr>\n",
       "    <tr>\n",
       "      <th>25.0</th>\n",
       "      <td>11561</td>\n",
       "      <td>45103</td>\n",
       "      <td>113165</td>\n",
       "    </tr>\n",
       "    <tr>\n",
       "      <th>26.0</th>\n",
       "      <td>9099</td>\n",
       "      <td>47515</td>\n",
       "      <td>110561</td>\n",
       "    </tr>\n",
       "    <tr>\n",
       "      <th>27.0</th>\n",
       "      <td>9974</td>\n",
       "      <td>55730</td>\n",
       "      <td>124683</td>\n",
       "    </tr>\n",
       "    <tr>\n",
       "      <th>28.0</th>\n",
       "      <td>11648</td>\n",
       "      <td>72612</td>\n",
       "      <td>152194</td>\n",
       "    </tr>\n",
       "    <tr>\n",
       "      <th>29.0</th>\n",
       "      <td>7137</td>\n",
       "      <td>50638</td>\n",
       "      <td>105828</td>\n",
       "    </tr>\n",
       "    <tr>\n",
       "      <th>30.0</th>\n",
       "      <td>64663</td>\n",
       "      <td>1188261</td>\n",
       "      <td>1421445</td>\n",
       "    </tr>\n",
       "  </tbody>\n",
       "</table>\n",
       "</div>"
      ],
      "text/plain": [
       "loyalty_flag            Loyal customer  New customer  Regular customer\n",
       "days_since_prior_order                                                \n",
       "0.0                             239649         40517            157845\n",
       "1.0                             626159         43354            262177\n",
       "2.0                             973214         60662            417492\n",
       "3.0                            1185968         86136            587710\n",
       "4.0                            1202971        107496            747056\n",
       "5.0                            1074717        136069            886697\n",
       "6.0                            1090986        191359           1196418\n",
       "7.0                            1351314        291064           1775061\n",
       "8.0                             643383        185317           1065114\n",
       "9.0                             347725        133335            709660\n",
       "10.0                            247991        112535            583075\n",
       "11.0                            184155        105171            508602\n",
       "12.0                            151544        109366            489825\n",
       "13.0                            136552        133357            553077\n",
       "14.0                            147364        168474            675467\n",
       "15.0                             89470        115435            441082\n",
       "16.0                             57659         82193            301756\n",
       "17.0                             44725         72056            248835\n",
       "18.0                             37008         68874            230315\n",
       "19.0                             31115         68200            219714\n",
       "20.0                             32357         81275            247675\n",
       "21.0                             33447        102117            284867\n",
       "22.0                             23358         69966            199160\n",
       "23.0                             15475         54568            142771\n",
       "24.0                             12993         47454            122364\n",
       "25.0                             11561         45103            113165\n",
       "26.0                              9099         47515            110561\n",
       "27.0                              9974         55730            124683\n",
       "28.0                             11648         72612            152194\n",
       "29.0                              7137         50638            105828\n",
       "30.0                             64663       1188261           1421445"
      ]
     },
     "execution_count": 135,
     "metadata": {},
     "output_type": "execute_result"
    }
   ],
   "source": [
    "crosstab_loyalty_prior_order"
   ]
  },
  {
   "cell_type": "code",
   "execution_count": 136,
   "id": "20f21eee",
   "metadata": {},
   "outputs": [
    {
     "data": {
      "text/plain": [
       "Text(0, 0.5, '% of Customer loyalty category')"
      ]
     },
     "execution_count": 136,
     "metadata": {},
     "output_type": "execute_result"
    },
    {
     "data": {
      "image/png": "[encoded data removed]",
      "text/plain": [
       "<Figure size 1000x500 with 1 Axes>"
      ]
     },
     "metadata": {},
     "output_type": "display_data"
    }
   ],
   "source": [
    "#Creating a stacked bar chart of customer loyalty and days since prior order\n",
    "bar_loyalty_prior_order = crosstab_loyalty_prior_order.loc[:,['Loyal customer','New customer','Regular customer']].apply(lambda x: x*100/sum(x), axis=1).plot.bar(stacked=True, rot=45, figsize=(10,5), colormap = 'tab10').legend(title=\"Customer loyalty\", bbox_to_anchor=(1.0,1.0))\n",
    "plt.title (\"Days since the previous order according to customer loyalty\")\n",
    "plt.xlabel(\"Days since the prior order\")\n",
    "plt.ylabel(\"% of Customer loyalty category\")"
   ]
  },
  {
   "cell_type": "code",
   "execution_count": 137,
   "id": "beac8b88",
   "metadata": {},
   "outputs": [],
   "source": [
    "#Creating a crosstab between 'department_id' and 'loyalty_flag'\n",
    "crosstab_department_loyalty = pd.crosstab(high_activity_custs['department_id'], high_activity_custs['loyalty_flag'], dropna = False)"
   ]
  },
  {
   "cell_type": "code",
   "execution_count": 138,
   "id": "81a4a0ec",
   "metadata": {},
   "outputs": [
    {
     "data": {
      "text/html": [
       "<div>\n",
       "<style scoped>\n",
       "    .dataframe tbody tr th:only-of-type {\n",
       "        vertical-align: middle;\n",
       "    }\n",
       "\n",
       "    .dataframe tbody tr th {\n",
       "        vertical-align: top;\n",
       "    }\n",
       "\n",
       "    .dataframe thead th {\n",
       "        text-align: right;\n",
       "    }\n",
       "</style>\n",
       "<table border=\"1\" class=\"dataframe\">\n",
       "  <thead>\n",
       "    <tr style=\"text-align: right;\">\n",
       "      <th>loyalty_flag</th>\n",
       "      <th>Loyal customer</th>\n",
       "      <th>New customer</th>\n",
       "      <th>Regular customer</th>\n",
       "    </tr>\n",
       "    <tr>\n",
       "      <th>department_id</th>\n",
       "      <th></th>\n",
       "      <th></th>\n",
       "      <th></th>\n",
       "    </tr>\n",
       "  </thead>\n",
       "  <tbody>\n",
       "    <tr>\n",
       "      <th>1</th>\n",
       "      <td>609460</td>\n",
       "      <td>372271</td>\n",
       "      <td>1140000</td>\n",
       "    </tr>\n",
       "    <tr>\n",
       "      <th>2</th>\n",
       "      <td>10715</td>\n",
       "      <td>5839</td>\n",
       "      <td>17857</td>\n",
       "    </tr>\n",
       "    <tr>\n",
       "      <th>3</th>\n",
       "      <td>379873</td>\n",
       "      <td>172104</td>\n",
       "      <td>568851</td>\n",
       "    </tr>\n",
       "    <tr>\n",
       "      <th>4</th>\n",
       "      <td>3147376</td>\n",
       "      <td>1336604</td>\n",
       "      <td>4595293</td>\n",
       "    </tr>\n",
       "    <tr>\n",
       "      <th>5</th>\n",
       "      <td>38723</td>\n",
       "      <td>28629</td>\n",
       "      <td>77275</td>\n",
       "    </tr>\n",
       "    <tr>\n",
       "      <th>6</th>\n",
       "      <td>78394</td>\n",
       "      <td>43841</td>\n",
       "      <td>133756</td>\n",
       "    </tr>\n",
       "    <tr>\n",
       "      <th>7</th>\n",
       "      <td>855017</td>\n",
       "      <td>396649</td>\n",
       "      <td>1320235</td>\n",
       "    </tr>\n",
       "    <tr>\n",
       "      <th>8</th>\n",
       "      <td>25469</td>\n",
       "      <td>15880</td>\n",
       "      <td>51711</td>\n",
       "    </tr>\n",
       "    <tr>\n",
       "      <th>9</th>\n",
       "      <td>242580</td>\n",
       "      <td>144836</td>\n",
       "      <td>434720</td>\n",
       "    </tr>\n",
       "    <tr>\n",
       "      <th>10</th>\n",
       "      <td>13834</td>\n",
       "      <td>4149</td>\n",
       "      <td>15468</td>\n",
       "    </tr>\n",
       "    <tr>\n",
       "      <th>11</th>\n",
       "      <td>123365</td>\n",
       "      <td>75442</td>\n",
       "      <td>225499</td>\n",
       "    </tr>\n",
       "    <tr>\n",
       "      <th>12</th>\n",
       "      <td>202480</td>\n",
       "      <td>112464</td>\n",
       "      <td>359837</td>\n",
       "    </tr>\n",
       "    <tr>\n",
       "      <th>13</th>\n",
       "      <td>560402</td>\n",
       "      <td>299576</td>\n",
       "      <td>922727</td>\n",
       "    </tr>\n",
       "    <tr>\n",
       "      <th>14</th>\n",
       "      <td>221577</td>\n",
       "      <td>106179</td>\n",
       "      <td>343094</td>\n",
       "    </tr>\n",
       "    <tr>\n",
       "      <th>15</th>\n",
       "      <td>294594</td>\n",
       "      <td>180196</td>\n",
       "      <td>537284</td>\n",
       "    </tr>\n",
       "    <tr>\n",
       "      <th>16</th>\n",
       "      <td>1830707</td>\n",
       "      <td>750056</td>\n",
       "      <td>2596419</td>\n",
       "    </tr>\n",
       "    <tr>\n",
       "      <th>17</th>\n",
       "      <td>196873</td>\n",
       "      <td>128117</td>\n",
       "      <td>374867</td>\n",
       "    </tr>\n",
       "    <tr>\n",
       "      <th>18</th>\n",
       "      <td>167108</td>\n",
       "      <td>46708</td>\n",
       "      <td>196576</td>\n",
       "    </tr>\n",
       "    <tr>\n",
       "      <th>19</th>\n",
       "      <td>943150</td>\n",
       "      <td>413107</td>\n",
       "      <td>1410149</td>\n",
       "    </tr>\n",
       "    <tr>\n",
       "      <th>20</th>\n",
       "      <td>324046</td>\n",
       "      <td>158335</td>\n",
       "      <td>521453</td>\n",
       "    </tr>\n",
       "    <tr>\n",
       "      <th>21</th>\n",
       "      <td>18350</td>\n",
       "      <td>12713</td>\n",
       "      <td>33705</td>\n",
       "    </tr>\n",
       "  </tbody>\n",
       "</table>\n",
       "</div>"
      ],
      "text/plain": [
       "loyalty_flag   Loyal customer  New customer  Regular customer\n",
       "department_id                                                \n",
       "1                      609460        372271           1140000\n",
       "2                       10715          5839             17857\n",
       "3                      379873        172104            568851\n",
       "4                     3147376       1336604           4595293\n",
       "5                       38723         28629             77275\n",
       "6                       78394         43841            133756\n",
       "7                      855017        396649           1320235\n",
       "8                       25469         15880             51711\n",
       "9                      242580        144836            434720\n",
       "10                      13834          4149             15468\n",
       "11                     123365         75442            225499\n",
       "12                     202480        112464            359837\n",
       "13                     560402        299576            922727\n",
       "14                     221577        106179            343094\n",
       "15                     294594        180196            537284\n",
       "16                    1830707        750056           2596419\n",
       "17                     196873        128117            374867\n",
       "18                     167108         46708            196576\n",
       "19                     943150        413107           1410149\n",
       "20                     324046        158335            521453\n",
       "21                      18350         12713             33705"
      ]
     },
     "execution_count": 138,
     "metadata": {},
     "output_type": "execute_result"
    }
   ],
   "source": [
    "crosstab_department_loyalty"
   ]
  },
  {
   "cell_type": "code",
   "execution_count": 142,
   "id": "cd46c01b",
   "metadata": {},
   "outputs": [
    {
     "data": {
      "text/plain": [
       "Text(0, 0.5, 'Number of Orders(in millions)')"
      ]
     },
     "execution_count": 142,
     "metadata": {},
     "output_type": "execute_result"
    },
    {
     "data": {
      "image/png": "[encoded data removed]",
      "text/plain": [
       "<Figure size 1500x500 with 1 Axes>"
      ]
     },
     "metadata": {},
     "output_type": "display_data"
    }
   ],
   "source": [
    "#Creating a bar chart of number of orders per department and loyal customers\n",
    "bar_department_loyalty = crosstab_department_loyalty.plot.bar(rot = 0, figsize = (15,5), colormap = 'tab20').legend(title = 'Loyalty Status')\n",
    "plt.title('Orders by Department and Loyalty Status')\n",
    "plt.xlabel('')\n",
    "plt.ylabel('Number of Orders(in millions)')"
   ]
  },
  {
   "cell_type": "markdown",
   "id": "b8344c55",
   "metadata": {},
   "source": [
    "### Are there differences in ordering habits based on a customer’s region?"
   ]
  },
  {
   "cell_type": "code",
   "execution_count": 148,
   "id": "8765a8f7",
   "metadata": {},
   "outputs": [
    {
     "data": {
      "text/plain": [
       "Text(0, 0.5, 'Number of orders')"
      ]
     },
     "execution_count": 148,
     "metadata": {},
     "output_type": "execute_result"
    },
    {
     "data": {
      "image/png": "[encoded data removed]",
      "text/plain": [
       "<Figure size 1000x500 with 1 Axes>"
      ]
     },
     "metadata": {},
     "output_type": "display_data"
    }
   ],
   "source": [
    "#Creating a bar chart of number of orders per Region\n",
    "bar_region = high_activity_custs['region'].value_counts(dropna = False).plot.bar(rot = 0, figsize = (10,5), color = 'darkgreen')\n",
    "plt.title('Number of orders per Region')\n",
    "plt.xlabel('')\n",
    "plt.ylabel('Number of orders')"
   ]
  },
  {
   "cell_type": "code",
   "execution_count": 152,
   "id": "8b8223ae",
   "metadata": {},
   "outputs": [],
   "source": [
    "#Creating a crosstab between 'region' and 'spending_flag'\n",
    "crosstab_spending_region = pd.crosstab(high_activity_custs['region'], high_activity_custs['spending_flag'], dropna = False)"
   ]
  },
  {
   "cell_type": "code",
   "execution_count": 153,
   "id": "9aaf0aae",
   "metadata": {},
   "outputs": [
    {
     "data": {
      "text/html": [
       "<div>\n",
       "<style scoped>\n",
       "    .dataframe tbody tr th:only-of-type {\n",
       "        vertical-align: middle;\n",
       "    }\n",
       "\n",
       "    .dataframe tbody tr th {\n",
       "        vertical-align: top;\n",
       "    }\n",
       "\n",
       "    .dataframe thead th {\n",
       "        text-align: right;\n",
       "    }\n",
       "</style>\n",
       "<table border=\"1\" class=\"dataframe\">\n",
       "  <thead>\n",
       "    <tr style=\"text-align: right;\">\n",
       "      <th>spending_flag</th>\n",
       "      <th>High spender</th>\n",
       "      <th>Low spender</th>\n",
       "    </tr>\n",
       "    <tr>\n",
       "      <th>region</th>\n",
       "      <th></th>\n",
       "      <th></th>\n",
       "    </tr>\n",
       "  </thead>\n",
       "  <tbody>\n",
       "    <tr>\n",
       "      <th>Midwest</th>\n",
       "      <td>148678</td>\n",
       "      <td>7112835</td>\n",
       "    </tr>\n",
       "    <tr>\n",
       "      <th>Northeast</th>\n",
       "      <td>103120</td>\n",
       "      <td>5361565</td>\n",
       "    </tr>\n",
       "    <tr>\n",
       "      <th>South</th>\n",
       "      <td>199339</td>\n",
       "      <td>10111800</td>\n",
       "    </tr>\n",
       "    <tr>\n",
       "      <th>West</th>\n",
       "      <td>152288</td>\n",
       "      <td>7774939</td>\n",
       "    </tr>\n",
       "  </tbody>\n",
       "</table>\n",
       "</div>"
      ],
      "text/plain": [
       "spending_flag  High spender  Low spender\n",
       "region                                  \n",
       "Midwest              148678      7112835\n",
       "Northeast            103120      5361565\n",
       "South                199339     10111800\n",
       "West                 152288      7774939"
      ]
     },
     "execution_count": 153,
     "metadata": {},
     "output_type": "execute_result"
    }
   ],
   "source": [
    "crosstab_spending_region"
   ]
  },
  {
   "cell_type": "code",
   "execution_count": 160,
   "id": "91a5bcd5",
   "metadata": {},
   "outputs": [
    {
     "data": {
      "text/plain": [
       "Text(0, 0.5, 'Number of customers')"
      ]
     },
     "execution_count": 160,
     "metadata": {},
     "output_type": "execute_result"
    },
    {
     "data": {
      "image/png": "[encoded data removed]",
      "text/plain": [
       "<Figure size 1000x500 with 1 Axes>"
      ]
     },
     "metadata": {},
     "output_type": "display_data"
    }
   ],
   "source": [
    "#Creating a bar chart of number of customers per region and spending habit\n",
    "bar_spending_region = crosstab_spending_region.plot.bar(rot = 0, figsize = (10,5), color = ['orange','darkgreen']).legend(title = 'Type of spending')\n",
    "plt.title('Number of customers based on spending habit per region')\n",
    "plt.xlabel('')\n",
    "plt.ylabel('Number of customers')"
   ]
  },
  {
   "cell_type": "code",
   "execution_count": 161,
   "id": "04b0f234",
   "metadata": {},
   "outputs": [],
   "source": [
    "#Creating a crosstab between 'region' and 'loyalty_flag'\n",
    "crosstab_region_loyalty = pd.crosstab(high_activity_custs['region'],high_activity_custs['loyalty_flag'], dropna = False)"
   ]
  },
  {
   "cell_type": "code",
   "execution_count": 162,
   "id": "ff8a214c",
   "metadata": {},
   "outputs": [
    {
     "data": {
      "text/html": [
       "<div>\n",
       "<style scoped>\n",
       "    .dataframe tbody tr th:only-of-type {\n",
       "        vertical-align: middle;\n",
       "    }\n",
       "\n",
       "    .dataframe tbody tr th {\n",
       "        vertical-align: top;\n",
       "    }\n",
       "\n",
       "    .dataframe thead th {\n",
       "        text-align: right;\n",
       "    }\n",
       "</style>\n",
       "<table border=\"1\" class=\"dataframe\">\n",
       "  <thead>\n",
       "    <tr style=\"text-align: right;\">\n",
       "      <th>loyalty_flag</th>\n",
       "      <th>Loyal customer</th>\n",
       "      <th>New customer</th>\n",
       "      <th>Regular customer</th>\n",
       "    </tr>\n",
       "    <tr>\n",
       "      <th>region</th>\n",
       "      <th></th>\n",
       "      <th></th>\n",
       "      <th></th>\n",
       "    </tr>\n",
       "  </thead>\n",
       "  <tbody>\n",
       "    <tr>\n",
       "      <th>Midwest</th>\n",
       "      <td>2373774</td>\n",
       "      <td>1136761</td>\n",
       "      <td>3750978</td>\n",
       "    </tr>\n",
       "    <tr>\n",
       "      <th>Northeast</th>\n",
       "      <td>1841785</td>\n",
       "      <td>842156</td>\n",
       "      <td>2780744</td>\n",
       "    </tr>\n",
       "    <tr>\n",
       "      <th>South</th>\n",
       "      <td>3405844</td>\n",
       "      <td>1593664</td>\n",
       "      <td>5311631</td>\n",
       "    </tr>\n",
       "    <tr>\n",
       "      <th>West</th>\n",
       "      <td>2662690</td>\n",
       "      <td>1231114</td>\n",
       "      <td>4033423</td>\n",
       "    </tr>\n",
       "  </tbody>\n",
       "</table>\n",
       "</div>"
      ],
      "text/plain": [
       "loyalty_flag  Loyal customer  New customer  Regular customer\n",
       "region                                                      \n",
       "Midwest              2373774       1136761           3750978\n",
       "Northeast            1841785        842156           2780744\n",
       "South                3405844       1593664           5311631\n",
       "West                 2662690       1231114           4033423"
      ]
     },
     "execution_count": 162,
     "metadata": {},
     "output_type": "execute_result"
    }
   ],
   "source": [
    "crosstab_region_loyalty"
   ]
  },
  {
   "cell_type": "code",
   "execution_count": 164,
   "id": "f5876dfb",
   "metadata": {},
   "outputs": [
    {
     "data": {
      "text/plain": [
       "Text(0, 0.5, 'Number of customers')"
      ]
     },
     "execution_count": 164,
     "metadata": {},
     "output_type": "execute_result"
    },
    {
     "data": {
      "image/png": "[encoded data removed]",
      "text/plain": [
       "<Figure size 1000x500 with 1 Axes>"
      ]
     },
     "metadata": {},
     "output_type": "display_data"
    }
   ],
   "source": [
    "#Creating a bar chart of number of customers per region and loyalty status\n",
    "bar_region_loyalty = crosstab_region_loyalty.plot.bar(rot = 0, figsize = (10,5), color = ['orange', 'red', 'darkgreen']).legend(title = 'Loyalty status')\n",
    "plt.title('Number of customers per region and loyalty status')\n",
    "plt.xlabel('')\n",
    "plt.ylabel('Number of customers')"
   ]
  },
  {
   "cell_type": "markdown",
   "id": "19cf21b6",
   "metadata": {},
   "source": [
    "## 10 Exporting the dataframes and visualizations"
   ]
  },
  {
   "cell_type": "code",
   "execution_count": 171,
   "id": "174e1d80",
   "metadata": {},
   "outputs": [],
   "source": [
    "#Exporting the dataframe high_activity_custs in .pkl\n",
    "high_activity_custs.to_pickle(os.path.join(path,'02 Data','Prepared Data','orders_products_all.pkl'))"
   ]
  },
  {
   "cell_type": "code",
   "execution_count": 172,
   "id": "308552b9",
   "metadata": {},
   "outputs": [],
   "source": [
    "#Exporting the dataframe low_activity_custs in .pkl\n",
    "low_activity_custs.to_pickle(os.path.join(path,'02 Data','Prepared Data','low_activity_customers.pkl'))"
   ]
  },
  {
   "cell_type": "code",
   "execution_count": 173,
   "id": "5406ec65",
   "metadata": {},
   "outputs": [],
   "source": [
    "#Exporting a bar chart with the profiles\n",
    "bar_profiles.figure.savefig(os.path.join(path,'04 Analysis','Visualizations','bar_profiles.png'), bbox_inches = 'tight')"
   ]
  },
  {
   "cell_type": "code",
   "execution_count": 174,
   "id": "97ec8fcd",
   "metadata": {},
   "outputs": [],
   "source": [
    "#Exporting a bar chart with the 'age_category'\n",
    "bar_age.figure.savefig(os.path.join(path,'04 Analysis','Visualizations','bar_age.png'), bbox_inches = 'tight')"
   ]
  },
  {
   "cell_type": "code",
   "execution_count": 175,
   "id": "bcc26df0",
   "metadata": {},
   "outputs": [],
   "source": [
    "#Exporting a bar chart with the 'income_category'\n",
    "bar_income.figure.savefig(os.path.join(path,'04 Analysis','Visualizations','bar_income.png'), bbox_inches = 'tight')"
   ]
  },
  {
   "cell_type": "code",
   "execution_count": 176,
   "id": "3e3776fa",
   "metadata": {},
   "outputs": [],
   "source": [
    "#Exporting a bar chart with the 'household'\n",
    "bar_household.figure.savefig(os.path.join(path,'04 Analysis','Visualizations','bar_household.png'), bbox_inches = 'tight')"
   ]
  },
  {
   "cell_type": "code",
   "execution_count": 177,
   "id": "eec082d0",
   "metadata": {},
   "outputs": [],
   "source": [
    "#Exporting a stacked bar chart for % of orders by profile and region\n",
    "bar_profile_region.figure.savefig(os.path.join(path,'04 Analysis','Visualizations','bar_profile_region.png'), bbox_inches = 'tight')"
   ]
  },
  {
   "cell_type": "code",
   "execution_count": 178,
   "id": "ebcc14de",
   "metadata": {},
   "outputs": [],
   "source": [
    "#Exporting a bar chart for counts of values of 'order_day_of_week'\n",
    "bar_order_dow.figure.savefig(os.path.join(path,'04 Analysis','Visualizations','bar_order_dow.png'), bbox_inches = 'tight')"
   ]
  },
  {
   "cell_type": "code",
   "execution_count": 179,
   "id": "b303ea6e",
   "metadata": {},
   "outputs": [],
   "source": [
    "#Exporting a histogram for count of values of 'order_hour_of_day'\n",
    "hist_order_hod.figure.savefig(os.path.join(path,'04 Analysis','Visualizations','hist_order_hod.png'), bbox_inches = 'tight')"
   ]
  },
  {
   "cell_type": "code",
   "execution_count": 41,
   "id": "a04bf45e",
   "metadata": {},
   "outputs": [],
   "source": [
    "#Exporting a line chart for customers spending per DOW\n",
    "line_prices_dow2.figure.savefig(os.path.join(path,'04 Analysis','Visualizations','line_prices_dow.png'), bbox_inches = 'tight')"
   ]
  },
  {
   "cell_type": "code",
   "execution_count": 43,
   "id": "7c0db8b9",
   "metadata": {},
   "outputs": [],
   "source": [
    "line_prices_hod.figure.savefig(os.path.join(path,'04 Analysis','Visualizations','line_prices_hod.png'), bbox_inches = 'tight')"
   ]
  },
  {
   "cell_type": "code",
   "execution_count": 185,
   "id": "2c5b20c7",
   "metadata": {},
   "outputs": [],
   "source": [
    "#Exporting a bar chart with the price range of the products\n",
    "bar_price_range.figure.savefig(os.path.join(path,'04 Analysis','Visualizations','bar_price_range.png'), bbox_inches = 'tight')"
   ]
  },
  {
   "cell_type": "code",
   "execution_count": 186,
   "id": "bfe3341e",
   "metadata": {},
   "outputs": [],
   "source": [
    "#Exporting a histogram for the 'prices' column\n",
    "hist_prices.figure.savefig(os.path.join(path,'04 Analysis','Visualizations','hist_prices.png'), bbox_inches = 'tight')"
   ]
  },
  {
   "cell_type": "code",
   "execution_count": 187,
   "id": "9ea05ffc",
   "metadata": {},
   "outputs": [],
   "source": [
    "#Exporting a chart showing number of orders per 'price_range_loc' and department_id\n",
    "bar_department_price_range.figure.savefig(os.path.join(path,'04 Analysis','Visualizations','bar_department_price_range.png'), bbox_inches = 'tight')"
   ]
  },
  {
   "cell_type": "code",
   "execution_count": 188,
   "id": "95cb8a6c",
   "metadata": {},
   "outputs": [],
   "source": [
    "#Exporting a bar chart of distribution of 'loyalty_flag'\n",
    "bar_loyalty.figure.savefig(os.path.join(path,'04 Analysis','Visualizations','bar_loyalty.png'), bbox_inches = 'tight')"
   ]
  },
  {
   "cell_type": "code",
   "execution_count": 189,
   "id": "802c4218",
   "metadata": {},
   "outputs": [],
   "source": [
    "#Exporting a stacked bar chart of customer loyalty and days since prior order\n",
    "bar_loyalty_prior_order.figure.savefig(os.path.join(path,'04 Analysis','Visualizations','bar_loyalty_prior_order.png'), bbox_inches = 'tight')"
   ]
  },
  {
   "cell_type": "code",
   "execution_count": 190,
   "id": "ce5aa1fb",
   "metadata": {},
   "outputs": [],
   "source": [
    "#Exporting a bar chart of number of orders per department and loyal customers\n",
    "bar_department_loyalty.figure.savefig(os.path.join(path,'04 Analysis','Visualizations','bar_department_loyalty.png'), bbox_inches = 'tight')"
   ]
  },
  {
   "cell_type": "code",
   "execution_count": 191,
   "id": "fa4d5958",
   "metadata": {},
   "outputs": [],
   "source": [
    "#Exporting a bar chart of number of orders per Region\n",
    "bar_region.figure.savefig(os.path.join(path,'04 Analysis','Visualizations','bar_region.png'), bbox_inches = 'tight')"
   ]
  },
  {
   "cell_type": "code",
   "execution_count": 192,
   "id": "4a1d6083",
   "metadata": {},
   "outputs": [],
   "source": [
    "#Exporting a bar chart of number of customers per region and spending habit\n",
    "bar_spending_region.figure.savefig(os.path.join(path,'04 Analysis','Visualizations','bar_spending_region.png'), bbox_inches = 'tight')"
   ]
  },
  {
   "cell_type": "code",
   "execution_count": 193,
   "id": "5aeeaed1",
   "metadata": {},
   "outputs": [],
   "source": [
    "#Exporting a bar chart of number of customers per region and loyalty status\n",
    "bar_region_loyalty.figure.savefig(os.path.join(path,'04 Analysis','Visualizations','bar_region_loyalty.png'), bbox_inches = 'tight')"
   ]
  },
  {
   "cell_type": "code",
   "execution_count": null,
   "id": "01dfe11f",
   "metadata": {},
   "outputs": [],
   "source": []
  }
 ],
 "metadata": {
  "kernelspec": {
   "display_name": "Python 3 (ipykernel)",
   "language": "python",
   "name": "python3"
  },
  "language_info": {
   "codemirror_mode": {
    "name": "ipython",
    "version": 3
   },
   "file_extension": ".py",
   "mimetype": "text/x-python",
   "name": "python",
   "nbconvert_exporter": "python",
   "pygments_lexer": "ipython3",
   "version": "3.9.13"
  }
 },
 "nbformat": 4,
 "nbformat_minor": 5
}
