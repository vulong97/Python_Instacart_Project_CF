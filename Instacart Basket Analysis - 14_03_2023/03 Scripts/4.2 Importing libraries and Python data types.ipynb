{
 "cells": [
  {
   "cell_type": "markdown",
   "id": "52b748a5",
   "metadata": {},
   "source": [
    "# Importing libraries"
   ]
  },
  {
   "cell_type": "code",
   "execution_count": 1,
   "id": "82700b40",
   "metadata": {},
   "outputs": [],
   "source": [
    "#Import libraries\n",
    "import pandas as pd\n",
    "import numpy as np\n",
    "import os"
   ]
  },
  {
   "cell_type": "markdown",
   "id": "4cc196b5",
   "metadata": {},
   "source": [
    "# Working with Python data types"
   ]
  },
  {
   "cell_type": "code",
   "execution_count": 2,
   "id": "436cd92b",
   "metadata": {},
   "outputs": [],
   "source": [
    "x=50"
   ]
  },
  {
   "cell_type": "code",
   "execution_count": 3,
   "id": "74b8e389",
   "metadata": {},
   "outputs": [
    {
     "data": {
      "text/plain": [
       "100"
      ]
     },
     "execution_count": 3,
     "metadata": {},
     "output_type": "execute_result"
    }
   ],
   "source": [
    "x+x"
   ]
  },
  {
   "cell_type": "code",
   "execution_count": 4,
   "id": "ad3fcc79",
   "metadata": {},
   "outputs": [
    {
     "data": {
      "text/plain": [
       "100"
      ]
     },
     "execution_count": 4,
     "metadata": {},
     "output_type": "execute_result"
    }
   ],
   "source": [
    "x*2"
   ]
  },
  {
   "cell_type": "code",
   "execution_count": 5,
   "id": "8b81f1ba",
   "metadata": {},
   "outputs": [],
   "source": [
    "x=x-10"
   ]
  },
  {
   "cell_type": "code",
   "execution_count": 6,
   "id": "4f4dd6a5",
   "metadata": {},
   "outputs": [
    {
     "name": "stdout",
     "output_type": "stream",
     "text": [
      "40\n"
     ]
    }
   ],
   "source": [
    "print(x)"
   ]
  },
  {
   "cell_type": "code",
   "execution_count": 7,
   "id": "ac7b7ced",
   "metadata": {},
   "outputs": [],
   "source": [
    "y=60"
   ]
  },
  {
   "cell_type": "code",
   "execution_count": 8,
   "id": "38bca0f2",
   "metadata": {},
   "outputs": [
    {
     "data": {
      "text/plain": [
       "100"
      ]
     },
     "execution_count": 8,
     "metadata": {},
     "output_type": "execute_result"
    }
   ],
   "source": [
    "x+y"
   ]
  },
  {
   "cell_type": "code",
   "execution_count": 9,
   "id": "1f06e855",
   "metadata": {},
   "outputs": [],
   "source": [
    "a=6.39"
   ]
  },
  {
   "cell_type": "code",
   "execution_count": 10,
   "id": "753d1cb3",
   "metadata": {},
   "outputs": [],
   "source": [
    "b=4.17"
   ]
  },
  {
   "cell_type": "code",
   "execution_count": 11,
   "id": "f73f7966",
   "metadata": {},
   "outputs": [
    {
     "data": {
      "text/plain": [
       "1.5323741007194245"
      ]
     },
     "execution_count": 11,
     "metadata": {},
     "output_type": "execute_result"
    }
   ],
   "source": [
    "a/b"
   ]
  },
  {
   "cell_type": "code",
   "execution_count": 12,
   "id": "05cd60a6",
   "metadata": {},
   "outputs": [
    {
     "data": {
      "text/plain": [
       "0.6525821596244131"
      ]
     },
     "execution_count": 12,
     "metadata": {},
     "output_type": "execute_result"
    }
   ],
   "source": [
    "b/a"
   ]
  },
  {
   "cell_type": "code",
   "execution_count": 13,
   "id": "3b15ffac",
   "metadata": {},
   "outputs": [],
   "source": [
    "c='P'"
   ]
  },
  {
   "cell_type": "code",
   "execution_count": 14,
   "id": "f7485aba",
   "metadata": {},
   "outputs": [],
   "source": [
    "d='y'"
   ]
  },
  {
   "cell_type": "code",
   "execution_count": 15,
   "id": "b5a7196b",
   "metadata": {},
   "outputs": [],
   "source": [
    "e='t'"
   ]
  },
  {
   "cell_type": "code",
   "execution_count": 16,
   "id": "6f73f4fe",
   "metadata": {},
   "outputs": [],
   "source": [
    "f='h'"
   ]
  },
  {
   "cell_type": "code",
   "execution_count": 17,
   "id": "6e38ef7b",
   "metadata": {},
   "outputs": [],
   "source": [
    "g='o'"
   ]
  },
  {
   "cell_type": "code",
   "execution_count": 18,
   "id": "7a3d2954",
   "metadata": {},
   "outputs": [],
   "source": [
    "h='n'"
   ]
  },
  {
   "cell_type": "code",
   "execution_count": 19,
   "id": "92cbbb42",
   "metadata": {},
   "outputs": [
    {
     "data": {
      "text/plain": [
       "'Python'"
      ]
     },
     "execution_count": 19,
     "metadata": {},
     "output_type": "execute_result"
    }
   ],
   "source": [
    "c+d+e+f+g+h"
   ]
  },
  {
   "cell_type": "code",
   "execution_count": 21,
   "id": "e93a6939",
   "metadata": {},
   "outputs": [],
   "source": [
    "i='Good '"
   ]
  },
  {
   "cell_type": "code",
   "execution_count": 22,
   "id": "d5ed353e",
   "metadata": {},
   "outputs": [],
   "source": [
    "j='morning, '"
   ]
  },
  {
   "cell_type": "code",
   "execution_count": 23,
   "id": "639f3386",
   "metadata": {},
   "outputs": [],
   "source": [
    "k='everyone!'"
   ]
  },
  {
   "cell_type": "code",
   "execution_count": 24,
   "id": "848d8412",
   "metadata": {},
   "outputs": [
    {
     "data": {
      "text/plain": [
       "'Good morning, everyone!'"
      ]
     },
     "execution_count": 24,
     "metadata": {},
     "output_type": "execute_result"
    }
   ],
   "source": [
    "i + j + k"
   ]
  },
  {
   "cell_type": "code",
   "execution_count": 25,
   "id": "3121220b",
   "metadata": {},
   "outputs": [],
   "source": [
    "l='night, '"
   ]
  },
  {
   "cell_type": "code",
   "execution_count": 26,
   "id": "9b41fe05",
   "metadata": {},
   "outputs": [
    {
     "data": {
      "text/plain": [
       "'Good night, everyone!'"
      ]
     },
     "execution_count": 26,
     "metadata": {},
     "output_type": "execute_result"
    }
   ],
   "source": [
    "i + l + k"
   ]
  },
  {
   "cell_type": "code",
   "execution_count": 27,
   "id": "a07496e1",
   "metadata": {},
   "outputs": [
    {
     "data": {
      "text/plain": [
       "'PythonPythonPythonPythonPythonPythonPythonPythonPythonPythonPythonPythonPythonPythonPythonPythonPythonPythonPythonPythonPythonPythonPythonPythonPythonPythonPythonPythonPythonPythonPythonPythonPythonPythonPythonPythonPythonPythonPythonPythonPythonPythonPythonPythonPythonPythonPythonPythonPythonPythonPythonPythonPythonPythonPythonPythonPythonPythonPythonPythonPythonPythonPythonPythonPythonPythonPythonPythonPythonPythonPythonPythonPythonPythonPythonPythonPythonPythonPythonPythonPythonPythonPythonPythonPythonPythonPythonPythonPythonPythonPythonPythonPythonPythonPythonPythonPythonPythonPythonPython'"
      ]
     },
     "execution_count": 27,
     "metadata": {},
     "output_type": "execute_result"
    }
   ],
   "source": [
    "(c+d+e+f+g+h)*100"
   ]
  },
  {
   "cell_type": "code",
   "execution_count": null,
   "id": "d58d0205",
   "metadata": {},
   "outputs": [],
   "source": []
  }
 ],
 "metadata": {
  "kernelspec": {
   "display_name": "Python 3 (ipykernel)",
   "language": "python",
   "name": "python3"
  },
  "language_info": {
   "codemirror_mode": {
    "name": "ipython",
    "version": 3
   },
   "file_extension": ".py",
   "mimetype": "text/x-python",
   "name": "python",
   "nbconvert_exporter": "python",
   "pygments_lexer": "ipython3",
   "version": "3.9.13"
  }
 },
 "nbformat": 4,
 "nbformat_minor": 5
}
